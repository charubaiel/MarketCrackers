{
 "cells": [
  {
   "cell_type": "code",
   "execution_count": 81,
   "metadata": {},
   "outputs": [],
   "source": [
    "import pandas as pd\n",
    "import requests as r\n",
    "from io import BytesIO"
   ]
  },
  {
   "cell_type": "code",
   "execution_count": 82,
   "metadata": {},
   "outputs": [],
   "source": [
    "def query(q,url='http://127.0.0.1:8123'):\n",
    "    return r.post(url=url,\n",
    "            data=q.encode('utf-8'))\n",
    "    "
   ]
  },
  {
   "cell_type": "code",
   "execution_count": 83,
   "metadata": {},
   "outputs": [],
   "source": [
    "df = pd.read_json('data/data_save.txt',lines=True,chunksize=100000)"
   ]
  },
  {
   "cell_type": "code",
   "execution_count": 90,
   "metadata": {},
   "outputs": [],
   "source": [
    "gen = (i for i in df)"
   ]
  },
  {
   "cell_type": "code",
   "execution_count": 99,
   "metadata": {},
   "outputs": [
    {
     "data": {
      "text/plain": [
       "e     object\n",
       "E      int64\n",
       "s     object\n",
       "t    float64\n",
       "p    float64\n",
       "q    float64\n",
       "b     object\n",
       "a     object\n",
       "T    float64\n",
       "m    float64\n",
       "M    float64\n",
       "dtype: object"
      ]
     },
     "execution_count": 99,
     "metadata": {},
     "output_type": "execute_result"
    }
   ],
   "source": [
    "gen.__next__().query('e!=\"depthUpdate\"').dropna(axis=1).dtypes"
   ]
  },
  {
   "cell_type": "code",
   "execution_count": 97,
   "metadata": {},
   "outputs": [
    {
     "data": {
      "text/plain": [
       "''"
      ]
     },
     "execution_count": 97,
     "metadata": {},
     "output_type": "execute_result"
    }
   ],
   "source": [
    "query('''CREATE TABLE trade_data (\n",
    "\n",
    "                            e String, \n",
    "                            E UInt64, \n",
    "                            s String, \n",
    "                            b UInt32, \n",
    "                            a UInt32, \n",
    "                            t Float64, \n",
    "                            p Float64, \n",
    "                            q Float64, \n",
    "                            T Float64, \n",
    "                            m UInt8, \n",
    "                            M Float64\n",
    "\n",
    "                            ) \n",
    "engine = MergeTree\n",
    "ORDER BY E\n",
    "''').text"
   ]
  },
  {
   "cell_type": "code",
   "execution_count": 95,
   "metadata": {},
   "outputs": [
    {
     "data": {
      "text/plain": [
       "e     object\n",
       "E      int64\n",
       "s     object\n",
       "b     object\n",
       "a     object\n",
       "U    float64\n",
       "u    float64\n",
       "dtype: object"
      ]
     },
     "execution_count": 95,
     "metadata": {},
     "output_type": "execute_result"
    }
   ],
   "source": [
    "gen.__next__().query('e==\"depthUpdate\"').dropna(axis=1).dtypes"
   ]
  },
  {
   "cell_type": "code",
   "execution_count": 101,
   "metadata": {},
   "outputs": [
    {
     "data": {
      "text/plain": [
       "''"
      ]
     },
     "execution_count": 101,
     "metadata": {},
     "output_type": "execute_result"
    }
   ],
   "source": [
    "query('''CREATE TABLE du_data (\n",
    "\n",
    "                            e     String,\n",
    "                            E     UInt64,\n",
    "                            s     String,\n",
    "                            b     String,\n",
    "                            a     String,\n",
    "                            U    Float64,\n",
    "                            u    Float64\n",
    "\n",
    "                            ) \n",
    "engine = MergeTree\n",
    "ORDER BY E\n",
    "''').text"
   ]
  },
  {
   "cell_type": "code",
   "execution_count": 102,
   "metadata": {},
   "outputs": [],
   "source": [
    "for data in df:\n",
    "    trade=data.query('e!=\"depthUpdate\"').dropna(axis=1)\n",
    "    du=data.query('e==\"depthUpdate\"').dropna(axis=1)\n",
    "    sample = ','.join(tuple(trade.apply(lambda x: str(tuple(x)),axis=1).to_list()))\n",
    "    sample2 = ','.join(tuple(du.apply(lambda x: str(tuple(x)),axis=1).to_list()))\n",
    "    query(f'INSERT INTO trade_data VALUES {sample}')\n",
    "    query(f'INSERT INTO du_data VALUES {sample2}')"
   ]
  },
  {
   "cell_type": "code",
   "execution_count": null,
   "metadata": {},
   "outputs": [],
   "source": []
  }
 ],
 "metadata": {
  "interpreter": {
   "hash": "916dbcbb3f70747c44a77c7bcd40155683ae19c65e1c03b4aa3499c5328201f1"
  },
  "kernelspec": {
   "display_name": "Python 3.8.10 64-bit",
   "language": "python",
   "name": "python3"
  },
  "language_info": {
   "codemirror_mode": {
    "name": "ipython",
    "version": 3
   },
   "file_extension": ".py",
   "mimetype": "text/x-python",
   "name": "python",
   "nbconvert_exporter": "python",
   "pygments_lexer": "ipython3",
   "version": "3.8.10"
  },
  "orig_nbformat": 4
 },
 "nbformat": 4,
 "nbformat_minor": 2
}
