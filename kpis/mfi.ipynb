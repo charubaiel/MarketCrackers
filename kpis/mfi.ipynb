{
 "cells": [
  {
   "cell_type": "code",
   "execution_count": 1,
   "metadata": {},
   "outputs": [],
   "source": [
    "from mm import *"
   ]
  },
  {
   "cell_type": "code",
   "execution_count": 71,
   "metadata": {},
   "outputs": [],
   "source": [
    "best_params_mfi = {\n",
    "                'kandle_size': 12,\n",
    "                'mfi_range': 1830,\n",
    "                'mfi_value': 16}\n",
    "\n",
    "best_params_devmfi = {'index_coef': 0.013659422371663978,\n",
    "                    'price_coef': -0.01793041179016943,\n",
    "                    'shift': 14}"
   ]
  },
  {
   "cell_type": "code",
   "execution_count": 72,
   "metadata": {},
   "outputs": [],
   "source": [
    "df = pd.read_csv('../data/price-volume-minute_btc-usd.csv',header=None)\n",
    "df.columns = ['price','volume','time']\n",
    "df = df.astype({'time':'datetime64[ms]'}).set_index('time').sort_index()"
   ]
  },
  {
   "cell_type": "code",
   "execution_count": 87,
   "metadata": {},
   "outputs": [],
   "source": [
    "def calc_mfi(df,price_col='price',vol_col='volume',kandle_size=12,mfi_range=1800):\n",
    "    dd = df.copy()\n",
    "    dd[price_col] = dd[price_col].rolling(kandle_size,1).mean()\n",
    "    pmf = dd.where(dd[price_col].diff() > 0).rolling(mfi_range,1).agg({price_col:'sum',vol_col:'sum'}) \n",
    "    pmf = pmf[price_col] * pmf[vol_col]\n",
    "    nmf = dd.where(dd[price_col].diff() < 0).rolling(mfi_range,1).agg({price_col:'sum',vol_col:'sum'}) \n",
    "    nmf = nmf[price_col] * nmf[vol_col]\n",
    "    return (100 - 100/(1 + pmf/nmf))"
   ]
  },
  {
   "cell_type": "code",
   "execution_count": 74,
   "metadata": {},
   "outputs": [],
   "source": [
    "def check_profit_probability(data,w8_period=1440,probability = True,profit = 0.05):\n",
    "    if probability:\n",
    "        return np.mean(data[0] < (data[:w8_period] * (1-profit)) )\n",
    "    return any(data[0] < (data[:w8_period] * (1-profit)))"
   ]
  },
  {
   "cell_type": "code",
   "execution_count": 75,
   "metadata": {},
   "outputs": [],
   "source": [
    "def validate_strategy(data,idx,sample_size=1000,**kwargs):\n",
    "    return list(map(lambda i: check_profit_probability(data.loc[i:].values,**kwargs),np.random.choice(idx,sample_size)))"
   ]
  },
  {
   "cell_type": "code",
   "execution_count": 76,
   "metadata": {},
   "outputs": [],
   "source": [
    "def trend_sampler(df,thr = .9,resampler = '24H'):\n",
    "    if thr < 1:\n",
    "        return df.resample(resampler).agg(['first','last']).where(lambda x: (x['last'] / x['first']) < thr).dropna().index\n",
    "    else :\n",
    "        return df.resample(resampler).agg(['first','last']).where(lambda x: (x['last'] / x['first']) > thr).dropna().index\n"
   ]
  },
  {
   "cell_type": "code",
   "execution_count": 77,
   "metadata": {},
   "outputs": [],
   "source": [
    "# fig,ax = plt.subplots(2,1)\n",
    "# idx = np.random.randint(df.shape[0]-1000)\n",
    "# idx_df = df.iloc[idx-1000:idx+1000].index\n",
    "# df.loc[idx_df,'price'].plot(ax=ax[0],title='Price')\n",
    "# calc_mfi(df.loc[idx_df],kandle=5,mfi_range=5*14).plot(ax=ax[1],title='MFI',color='b')\n",
    "# buy_idx = calc_mfi(df.loc[idx_df],kandle=5,mfi_range=5*14).where(lambda x: x < 20).dropna().index\n",
    "# sell_idx = calc_mfi(df.loc[idx_df],kandle=5,mfi_range=5*14).where(lambda x: x > 80).dropna().index\n",
    "# [ax[0].axvline(bidx,linestyle='--',alpha=0.3,color='g') for bidx in buy_idx]\n",
    "# [ax[1].axvline(bidx,linestyle='--',alpha=0.3,color='g') for bidx in buy_idx]\n",
    "# plt.tight_layout()\n",
    "# (df.loc[sell_idx]['price'].resample('min').mean().fillna(method='bfill') - df.loc[buy_idx]['price'].resample('min').mean()).dropna().clip(-1,1).round().value_counts(normalize=True)"
   ]
  },
  {
   "cell_type": "code",
   "execution_count": 78,
   "metadata": {},
   "outputs": [],
   "source": [
    "def devirgence(data,shift=10):\n",
    "    f1 = data\n",
    "    f2 = data.shift(shift)\n",
    "    return f1 / f2 - 1"
   ]
  },
  {
   "cell_type": "code",
   "execution_count": 83,
   "metadata": {},
   "outputs": [],
   "source": [
    "def div_check(data,price_col='price',vol_col='volume',price_coef= 0,index_coef = 0,shift=30):\n",
    "    price_dv = devirgence(data[price_col],shift=shift)\n",
    "    mfi_dv = devirgence(calc_mfi(data,vol_col=vol_col,price_col=price_col),shift=shift)\n",
    "    return (price_dv < price_coef) & (mfi_dv >index_coef)"
   ]
  },
  {
   "cell_type": "code",
   "execution_count": 80,
   "metadata": {},
   "outputs": [],
   "source": [
    "dfs = df['price'].loc['2021']"
   ]
  },
  {
   "cell_type": "code",
   "execution_count": 96,
   "metadata": {},
   "outputs": [
    {
     "name": "stdout",
     "output_type": "stream",
     "text": [
      "MFI point counts 6714 \n",
      "\n",
      "DVMFI point counts 31 \n",
      "\n"
     ]
    }
   ],
   "source": [
    "mfi_idx = calc_mfi(df.loc[dfs.index]).where(lambda x: x<30).dropna().index\n",
    "dvmfi_idx = div_check(df.loc[dfs.index],**best_params_devmfi).where(lambda x: x==True).dropna().index\n",
    "rng_idx = np.random.choice(dfs.index,len(mfi_idx))\n",
    "print(f'MFI point counts {len(mfi_idx)} \\n')\n",
    "print(f'DVMFI point counts {len(dvmfi_idx)} \\n')"
   ]
  },
  {
   "cell_type": "code",
   "execution_count": 97,
   "metadata": {},
   "outputs": [
    {
     "name": "stderr",
     "output_type": "stream",
     "text": [
      "[Parallel(n_jobs=6)]: Using backend LokyBackend with 6 concurrent workers.\n",
      "[Parallel(n_jobs=6)]: Done   1 tasks      | elapsed:    0.1s\n",
      "[Parallel(n_jobs=6)]: Batch computation too fast (0.1865s.) Setting batch_size=2.\n",
      "[Parallel(n_jobs=6)]: Done   6 tasks      | elapsed:    0.1s\n",
      "[Parallel(n_jobs=6)]: Done  14 tasks      | elapsed:    0.5s\n",
      "[Parallel(n_jobs=6)]: Done  28 tasks      | elapsed:    0.7s\n",
      "[Parallel(n_jobs=6)]: Done  46 tasks      | elapsed:    1.1s\n",
      "[Parallel(n_jobs=6)]: Done  64 tasks      | elapsed:    1.5s\n",
      "[Parallel(n_jobs=6)]: Done  86 tasks      | elapsed:    2.0s\n",
      "[Parallel(n_jobs=6)]: Done 108 tasks      | elapsed:    2.4s\n",
      "[Parallel(n_jobs=6)]: Done 134 tasks      | elapsed:    3.0s\n",
      "[Parallel(n_jobs=6)]: Done 160 tasks      | elapsed:    3.5s\n",
      "[Parallel(n_jobs=6)]: Done 190 tasks      | elapsed:    4.1s\n",
      "[Parallel(n_jobs=6)]: Done 220 tasks      | elapsed:    4.7s\n",
      "[Parallel(n_jobs=6)]: Done 254 tasks      | elapsed:    5.4s\n",
      "[Parallel(n_jobs=6)]: Done 288 tasks      | elapsed:    6.1s\n",
      "[Parallel(n_jobs=6)]: Done 326 tasks      | elapsed:    6.8s\n",
      "[Parallel(n_jobs=6)]: Done 364 tasks      | elapsed:    7.6s\n",
      "[Parallel(n_jobs=6)]: Done 406 tasks      | elapsed:    8.5s\n",
      "[Parallel(n_jobs=6)]: Done 448 tasks      | elapsed:    9.3s\n",
      "[Parallel(n_jobs=6)]: Done 494 tasks      | elapsed:   10.2s\n",
      "[Parallel(n_jobs=6)]: Done 540 tasks      | elapsed:   11.2s\n",
      "[Parallel(n_jobs=6)]: Done 590 tasks      | elapsed:   12.1s\n",
      "[Parallel(n_jobs=6)]: Done 640 tasks      | elapsed:   13.2s\n",
      "[Parallel(n_jobs=6)]: Done 694 tasks      | elapsed:   14.3s\n",
      "[Parallel(n_jobs=6)]: Done 748 tasks      | elapsed:   15.3s\n",
      "[Parallel(n_jobs=6)]: Done 806 tasks      | elapsed:   16.5s\n",
      "[Parallel(n_jobs=6)]: Done 864 tasks      | elapsed:   17.6s\n",
      "[Parallel(n_jobs=6)]: Done 926 tasks      | elapsed:   18.9s\n",
      "[Parallel(n_jobs=6)]: Done 988 tasks      | elapsed:   20.2s\n",
      "[Parallel(n_jobs=6)]: Done 1054 tasks      | elapsed:   21.5s\n",
      "[Parallel(n_jobs=6)]: Done 1120 tasks      | elapsed:   23.0s\n",
      "[Parallel(n_jobs=6)]: Done 1190 tasks      | elapsed:   24.6s\n",
      "[Parallel(n_jobs=6)]: Done 1260 tasks      | elapsed:   26.3s\n",
      "[Parallel(n_jobs=6)]: Done 1334 tasks      | elapsed:   27.9s\n",
      "[Parallel(n_jobs=6)]: Done 1408 tasks      | elapsed:   29.6s\n",
      "[Parallel(n_jobs=6)]: Done 1486 tasks      | elapsed:   31.4s\n",
      "[Parallel(n_jobs=6)]: Done 1564 tasks      | elapsed:   33.3s\n",
      "[Parallel(n_jobs=6)]: Done 1646 tasks      | elapsed:   35.3s\n",
      "[Parallel(n_jobs=6)]: Done 1728 tasks      | elapsed:   37.2s\n",
      "[Parallel(n_jobs=6)]: Done 1814 tasks      | elapsed:   39.2s\n",
      "[Parallel(n_jobs=6)]: Done 1900 tasks      | elapsed:   41.2s\n",
      "[Parallel(n_jobs=6)]: Done 1989 out of 2000 | elapsed:   43.2s remaining:    0.1s\n",
      "[Parallel(n_jobs=6)]: Done 2000 out of 2000 | elapsed:   43.4s finished\n"
     ]
    }
   ],
   "source": [
    "rng = Parallel(n_jobs=6, verbose=10)(delayed(validate_strategy)(data=dfs,idx=rng_idx,probability=False,sample_size=500) for _ in range(2000))"
   ]
  },
  {
   "cell_type": "code",
   "execution_count": 98,
   "metadata": {},
   "outputs": [
    {
     "name": "stderr",
     "output_type": "stream",
     "text": [
      "[Parallel(n_jobs=6)]: Using backend LokyBackend with 6 concurrent workers.\n",
      "[Parallel(n_jobs=6)]: Done   1 tasks      | elapsed:    0.1s\n",
      "[Parallel(n_jobs=6)]: Batch computation too fast (0.1563s.) Setting batch_size=2.\n",
      "[Parallel(n_jobs=6)]: Done   6 tasks      | elapsed:    0.1s\n",
      "[Parallel(n_jobs=6)]: Done  14 tasks      | elapsed:    0.5s\n",
      "[Parallel(n_jobs=6)]: Done  28 tasks      | elapsed:    0.7s\n",
      "[Parallel(n_jobs=6)]: Done  46 tasks      | elapsed:    1.1s\n",
      "[Parallel(n_jobs=6)]: Done  64 tasks      | elapsed:    1.6s\n",
      "[Parallel(n_jobs=6)]: Done  86 tasks      | elapsed:    2.1s\n",
      "[Parallel(n_jobs=6)]: Done 108 tasks      | elapsed:    2.5s\n",
      "[Parallel(n_jobs=6)]: Done 134 tasks      | elapsed:    3.2s\n",
      "[Parallel(n_jobs=6)]: Done 160 tasks      | elapsed:    3.8s\n",
      "[Parallel(n_jobs=6)]: Done 190 tasks      | elapsed:    4.4s\n",
      "[Parallel(n_jobs=6)]: Done 220 tasks      | elapsed:    5.1s\n",
      "[Parallel(n_jobs=6)]: Done 254 tasks      | elapsed:    5.9s\n",
      "[Parallel(n_jobs=6)]: Done 288 tasks      | elapsed:    6.6s\n",
      "[Parallel(n_jobs=6)]: Done 326 tasks      | elapsed:    7.5s\n",
      "[Parallel(n_jobs=6)]: Done 364 tasks      | elapsed:    8.4s\n",
      "[Parallel(n_jobs=6)]: Done 406 tasks      | elapsed:    9.3s\n",
      "[Parallel(n_jobs=6)]: Done 448 tasks      | elapsed:   10.2s\n",
      "[Parallel(n_jobs=6)]: Done 494 tasks      | elapsed:   11.3s\n",
      "[Parallel(n_jobs=6)]: Done 540 tasks      | elapsed:   12.4s\n",
      "[Parallel(n_jobs=6)]: Done 590 tasks      | elapsed:   13.5s\n",
      "[Parallel(n_jobs=6)]: Done 640 tasks      | elapsed:   14.6s\n",
      "[Parallel(n_jobs=6)]: Done 694 tasks      | elapsed:   15.9s\n",
      "[Parallel(n_jobs=6)]: Done 748 tasks      | elapsed:   17.1s\n",
      "[Parallel(n_jobs=6)]: Done 806 tasks      | elapsed:   18.4s\n",
      "[Parallel(n_jobs=6)]: Done 864 tasks      | elapsed:   19.7s\n",
      "[Parallel(n_jobs=6)]: Done 926 tasks      | elapsed:   21.1s\n",
      "[Parallel(n_jobs=6)]: Done 988 tasks      | elapsed:   22.5s\n",
      "[Parallel(n_jobs=6)]: Done 1054 tasks      | elapsed:   24.0s\n",
      "[Parallel(n_jobs=6)]: Done 1120 tasks      | elapsed:   25.5s\n",
      "[Parallel(n_jobs=6)]: Done 1190 tasks      | elapsed:   27.2s\n",
      "[Parallel(n_jobs=6)]: Done 1260 tasks      | elapsed:   28.6s\n",
      "[Parallel(n_jobs=6)]: Done 1334 tasks      | elapsed:   30.3s\n",
      "[Parallel(n_jobs=6)]: Done 1408 tasks      | elapsed:   32.0s\n",
      "[Parallel(n_jobs=6)]: Done 1486 tasks      | elapsed:   33.7s\n",
      "[Parallel(n_jobs=6)]: Done 1564 tasks      | elapsed:   35.5s\n",
      "[Parallel(n_jobs=6)]: Done 1646 tasks      | elapsed:   37.4s\n",
      "[Parallel(n_jobs=6)]: Done 1728 tasks      | elapsed:   39.2s\n",
      "[Parallel(n_jobs=6)]: Done 1814 tasks      | elapsed:   41.2s\n",
      "[Parallel(n_jobs=6)]: Done 1900 tasks      | elapsed:   43.1s\n",
      "[Parallel(n_jobs=6)]: Done 1989 out of 2000 | elapsed:   45.2s remaining:    0.2s\n",
      "[Parallel(n_jobs=6)]: Done 2000 out of 2000 | elapsed:   45.3s finished\n"
     ]
    }
   ],
   "source": [
    "mfi = Parallel(n_jobs=6, verbose=10)(delayed(validate_strategy)(data=dfs,idx=mfi_idx,probability=False,sample_size=500) for _ in range(2000))"
   ]
  },
  {
   "cell_type": "code",
   "execution_count": 99,
   "metadata": {},
   "outputs": [
    {
     "name": "stderr",
     "output_type": "stream",
     "text": [
      "[Parallel(n_jobs=6)]: Using backend LokyBackend with 6 concurrent workers.\n",
      "[Parallel(n_jobs=6)]: Done   1 tasks      | elapsed:    0.1s\n",
      "[Parallel(n_jobs=6)]: Batch computation too fast (0.1530s.) Setting batch_size=2.\n",
      "[Parallel(n_jobs=6)]: Done   6 tasks      | elapsed:    0.1s\n",
      "[Parallel(n_jobs=6)]: Done  14 tasks      | elapsed:    0.4s\n",
      "[Parallel(n_jobs=6)]: Done  28 tasks      | elapsed:    0.7s\n",
      "[Parallel(n_jobs=6)]: Done  46 tasks      | elapsed:    1.0s\n",
      "[Parallel(n_jobs=6)]: Done  64 tasks      | elapsed:    1.5s\n",
      "[Parallel(n_jobs=6)]: Done  86 tasks      | elapsed:    1.9s\n",
      "[Parallel(n_jobs=6)]: Done 108 tasks      | elapsed:    2.4s\n",
      "[Parallel(n_jobs=6)]: Done 134 tasks      | elapsed:    2.9s\n",
      "[Parallel(n_jobs=6)]: Done 160 tasks      | elapsed:    3.5s\n",
      "[Parallel(n_jobs=6)]: Done 190 tasks      | elapsed:    4.1s\n",
      "[Parallel(n_jobs=6)]: Done 220 tasks      | elapsed:    4.8s\n",
      "[Parallel(n_jobs=6)]: Done 254 tasks      | elapsed:    5.5s\n",
      "[Parallel(n_jobs=6)]: Done 288 tasks      | elapsed:    6.2s\n",
      "[Parallel(n_jobs=6)]: Done 326 tasks      | elapsed:    7.0s\n",
      "[Parallel(n_jobs=6)]: Done 364 tasks      | elapsed:    7.8s\n",
      "[Parallel(n_jobs=6)]: Done 406 tasks      | elapsed:    8.7s\n",
      "[Parallel(n_jobs=6)]: Done 448 tasks      | elapsed:    9.6s\n",
      "[Parallel(n_jobs=6)]: Done 494 tasks      | elapsed:   10.6s\n",
      "[Parallel(n_jobs=6)]: Done 540 tasks      | elapsed:   11.5s\n",
      "[Parallel(n_jobs=6)]: Done 590 tasks      | elapsed:   12.6s\n",
      "[Parallel(n_jobs=6)]: Done 640 tasks      | elapsed:   13.7s\n",
      "[Parallel(n_jobs=6)]: Done 694 tasks      | elapsed:   14.8s\n",
      "[Parallel(n_jobs=6)]: Done 748 tasks      | elapsed:   16.0s\n",
      "[Parallel(n_jobs=6)]: Done 806 tasks      | elapsed:   17.3s\n",
      "[Parallel(n_jobs=6)]: Done 864 tasks      | elapsed:   18.5s\n",
      "[Parallel(n_jobs=6)]: Done 926 tasks      | elapsed:   19.8s\n",
      "[Parallel(n_jobs=6)]: Done 988 tasks      | elapsed:   21.1s\n",
      "[Parallel(n_jobs=6)]: Done 1054 tasks      | elapsed:   22.5s\n",
      "[Parallel(n_jobs=6)]: Done 1120 tasks      | elapsed:   24.0s\n",
      "[Parallel(n_jobs=6)]: Done 1190 tasks      | elapsed:   25.5s\n",
      "[Parallel(n_jobs=6)]: Done 1260 tasks      | elapsed:   26.9s\n",
      "[Parallel(n_jobs=6)]: Done 1334 tasks      | elapsed:   28.6s\n",
      "[Parallel(n_jobs=6)]: Done 1408 tasks      | elapsed:   30.1s\n",
      "[Parallel(n_jobs=6)]: Done 1486 tasks      | elapsed:   31.7s\n",
      "[Parallel(n_jobs=6)]: Done 1564 tasks      | elapsed:   33.5s\n",
      "[Parallel(n_jobs=6)]: Done 1646 tasks      | elapsed:   35.2s\n",
      "[Parallel(n_jobs=6)]: Done 1728 tasks      | elapsed:   36.8s\n",
      "[Parallel(n_jobs=6)]: Done 1814 tasks      | elapsed:   38.7s\n",
      "[Parallel(n_jobs=6)]: Done 1900 tasks      | elapsed:   40.6s\n",
      "[Parallel(n_jobs=6)]: Done 2000 out of 2000 | elapsed:   42.6s finished\n"
     ]
    }
   ],
   "source": [
    "dvmfi = Parallel(n_jobs=6, verbose=10)(delayed(validate_strategy)(data=dfs,idx=dvmfi_idx,probability=False,sample_size=500) for _ in range(2000))"
   ]
  },
  {
   "cell_type": "code",
   "execution_count": 100,
   "metadata": {},
   "outputs": [
    {
     "data": {
      "text/plain": [
       "<matplotlib.legend.Legend at 0x1678140fbe0>"
      ]
     },
     "execution_count": 100,
     "metadata": {},
     "output_type": "execute_result"
    },
    {
     "data": {
      "image/png": "[encoded data removed]",
      "text/plain": [
       "<Figure size 1080x432 with 1 Axes>"
      ]
     },
     "metadata": {},
     "output_type": "display_data"
    }
   ],
   "source": [
    "plt.hist(np.array(mfi).mean(axis=1),bins=50);\n",
    "plt.hist(np.array(dvmfi).mean(axis=1),bins=50);\n",
    "plt.hist(np.array(rng).mean(axis=1),bins=50);\n",
    "plt.legend(['mfi','div','rng'])"
   ]
  },
  {
   "cell_type": "code",
   "execution_count": 22,
   "metadata": {},
   "outputs": [],
   "source": [
    "# num_idx = np.random.randint(len(mfi_idx))\n",
    "# dfs.loc[rng_idx[num_idx]:].iloc[:1000].sub(dfs.loc[rng_idx[num_idx]]).reset_index(drop=True).plot()\n",
    "# dfs.loc[mfi_idx[num_idx]:].iloc[:1000].sub(dfs.loc[mfi_idx[num_idx]]).reset_index(drop=True).plot()\n",
    "# plt.legend(['rng','mfi'])\n",
    "# plt.axhline(0,color='g')"
   ]
  },
  {
   "cell_type": "code",
   "execution_count": 23,
   "metadata": {},
   "outputs": [],
   "source": [
    "# dfs.plot()\n",
    "# [ plt.axvline(i,color='g',linestyle='--') for i in np.random.choice(mfi_idx,200)];"
   ]
  },
  {
   "cell_type": "code",
   "execution_count": null,
   "metadata": {},
   "outputs": [],
   "source": []
  },
  {
   "cell_type": "code",
   "execution_count": null,
   "metadata": {},
   "outputs": [],
   "source": []
  },
  {
   "cell_type": "code",
   "execution_count": null,
   "metadata": {},
   "outputs": [],
   "source": []
  },
  {
   "cell_type": "code",
   "execution_count": null,
   "metadata": {},
   "outputs": [],
   "source": []
  },
  {
   "cell_type": "code",
   "execution_count": null,
   "metadata": {},
   "outputs": [],
   "source": []
  },
  {
   "cell_type": "code",
   "execution_count": 24,
   "metadata": {},
   "outputs": [],
   "source": [
    "# idx = np.datetime_as_string(np.random.choice(trend_sampler(df['price'].loc['2021'],thr=.9)),'D')\n",
    "# df.loc[str(idx),'price'].plot()"
   ]
  },
  {
   "cell_type": "code",
   "execution_count": 25,
   "metadata": {},
   "outputs": [],
   "source": [
    "import optuna"
   ]
  },
  {
   "cell_type": "code",
   "execution_count": 68,
   "metadata": {},
   "outputs": [],
   "source": [
    "def hyp_obj(trial):\n",
    "    \n",
    "    kandle = trial.suggest_int('kandle_size',5,30)\n",
    "    ma_range = trial.suggest_int('mfi_range',30,2000,30)\n",
    "    mfi_value = trial.suggest_int('mfi_value',5,30)\n",
    "    has_more = []\n",
    "    rng_more = []\n",
    "    for i in range(50):\n",
    "        idx = np.random.randint(df.shape[0]-2000)\n",
    "        idx_df = df.iloc[idx-2000:idx+2000].index\n",
    "        buy_idx = calc_mfi(df.loc[idx_df],kandle=kandle,mfi_range=ma_range).where(lambda x: x < mfi_value).dropna().index\n",
    "        try:\n",
    "            has_more.append(np.mean(validate_strategy(data=df.loc[idx_df,'price'],idx=buy_idx,probability=False)))\n",
    "            rng_more.append(np.mean(validate_strategy(data=df.loc[idx_df,'price'],idx=np.random.choice(idx_df,len(buy_idx)),probability=False)))\n",
    "        except:\n",
    "            pass\n",
    "\n",
    "    return np.mean(np.array(has_more) - np.array(rng_more))"
   ]
  },
  {
   "cell_type": "code",
   "execution_count": 22,
   "metadata": {},
   "outputs": [
    {
     "name": "stderr",
     "output_type": "stream",
     "text": [
      "\u001b[32m[I 2022-04-06 23:33:08,300]\u001b[0m A new study created in memory with name: no-name-c2117b5f-d666-4f72-92fe-65a560b62060\u001b[0m\n",
      "\u001b[32m[I 2022-04-06 23:33:48,897]\u001b[0m Trial 0 finished with value: 0.07667600000000001 and parameters: {'kandle_size': 23, 'mfi_range': 270, 'mfi_value': 29}. Best is trial 0 with value: 0.07667600000000001.\u001b[0m\n",
      "\u001b[32m[I 2022-04-06 23:34:13,559]\u001b[0m Trial 1 finished with value: 0.2192466666666667 and parameters: {'kandle_size': 14, 'mfi_range': 1830, 'mfi_value': 10}. Best is trial 1 with value: 0.2192466666666667.\u001b[0m\n",
      "\u001b[32m[I 2022-04-06 23:34:44,021]\u001b[0m Trial 2 finished with value: 0.08387027027027026 and parameters: {'kandle_size': 16, 'mfi_range': 1650, 'mfi_value': 13}. Best is trial 1 with value: 0.2192466666666667.\u001b[0m\n",
      "\u001b[32m[I 2022-04-06 23:35:00,649]\u001b[0m Trial 3 finished with value: 0.15 and parameters: {'kandle_size': 6, 'mfi_range': 1560, 'mfi_value': 5}. Best is trial 1 with value: 0.2192466666666667.\u001b[0m\n",
      "\u001b[32m[I 2022-04-06 23:35:31,643]\u001b[0m Trial 4 finished with value: 0.06014736842105262 and parameters: {'kandle_size': 17, 'mfi_range': 1590, 'mfi_value': 19}. Best is trial 1 with value: 0.2192466666666667.\u001b[0m\n",
      "\u001b[32m[I 2022-04-06 23:36:08,902]\u001b[0m Trial 5 finished with value: 0.10673913043478259 and parameters: {'kandle_size': 21, 'mfi_range': 1350, 'mfi_value': 28}. Best is trial 1 with value: 0.2192466666666667.\u001b[0m\n",
      "\u001b[32m[I 2022-04-06 23:36:33,160]\u001b[0m Trial 6 finished with value: 0.001448275862068965 and parameters: {'kandle_size': 11, 'mfi_range': 1170, 'mfi_value': 13}. Best is trial 1 with value: 0.2192466666666667.\u001b[0m\n",
      "\u001b[32m[I 2022-04-06 23:37:05,269]\u001b[0m Trial 7 finished with value: 0.13487692307692312 and parameters: {'kandle_size': 14, 'mfi_range': 1650, 'mfi_value': 16}. Best is trial 1 with value: 0.2192466666666667.\u001b[0m\n",
      "\u001b[32m[I 2022-04-06 23:37:31,369]\u001b[0m Trial 8 finished with value: -0.018659259259259257 and parameters: {'kandle_size': 23, 'mfi_range': 1020, 'mfi_value': 9}. Best is trial 1 with value: 0.2192466666666667.\u001b[0m\n",
      "\u001b[32m[I 2022-04-06 23:38:04,446]\u001b[0m Trial 9 finished with value: -0.0011272727272727309 and parameters: {'kandle_size': 18, 'mfi_range': 1140, 'mfi_value': 7}. Best is trial 1 with value: 0.2192466666666667.\u001b[0m\n",
      "\u001b[32m[I 2022-04-06 23:38:46,952]\u001b[0m Trial 10 finished with value: 0.018644897959183667 and parameters: {'kandle_size': 30, 'mfi_range': 480, 'mfi_value': 22}. Best is trial 1 with value: 0.2192466666666667.\u001b[0m\n",
      "\u001b[32m[I 2022-04-06 23:39:08,802]\u001b[0m Trial 11 finished with value: 0.097032 and parameters: {'kandle_size': 6, 'mfi_range': 1980, 'mfi_value': 5}. Best is trial 1 with value: 0.2192466666666667.\u001b[0m\n",
      "\u001b[32m[I 2022-04-06 23:39:33,490]\u001b[0m Trial 12 finished with value: 0.007121428571428556 and parameters: {'kandle_size': 5, 'mfi_range': 1950, 'mfi_value': 10}. Best is trial 1 with value: 0.2192466666666667.\u001b[0m\n",
      "\u001b[32m[I 2022-04-06 23:40:01,607]\u001b[0m Trial 13 finished with value: 0.04044374999999999 and parameters: {'kandle_size': 10, 'mfi_range': 720, 'mfi_value': 5}. Best is trial 1 with value: 0.2192466666666667.\u001b[0m\n",
      "\u001b[32m[I 2022-04-06 23:40:26,997]\u001b[0m Trial 14 finished with value: 0.0406896551724138 and parameters: {'kandle_size': 9, 'mfi_range': 1410, 'mfi_value': 11}. Best is trial 1 with value: 0.2192466666666667.\u001b[0m\n",
      "\u001b[32m[I 2022-04-06 23:40:59,695]\u001b[0m Trial 15 finished with value: 0.17014736842105263 and parameters: {'kandle_size': 12, 'mfi_range': 1800, 'mfi_value': 16}. Best is trial 1 with value: 0.2192466666666667.\u001b[0m\n",
      "\u001b[32m[I 2022-04-06 23:41:37,740]\u001b[0m Trial 16 finished with value: 0.16295 and parameters: {'kandle_size': 13, 'mfi_range': 1830, 'mfi_value': 22}. Best is trial 1 with value: 0.2192466666666667.\u001b[0m\n",
      "\u001b[32m[I 2022-04-06 23:42:11,670]\u001b[0m Trial 17 finished with value: 0.036266666666666655 and parameters: {'kandle_size': 20, 'mfi_range': 840, 'mfi_value': 16}. Best is trial 1 with value: 0.2192466666666667.\u001b[0m\n",
      "\u001b[32m[I 2022-04-06 23:42:50,937]\u001b[0m Trial 18 finished with value: 0.11602222222222222 and parameters: {'kandle_size': 13, 'mfi_range': 1770, 'mfi_value': 20}. Best is trial 1 with value: 0.2192466666666667.\u001b[0m\n",
      "\u001b[32m[I 2022-04-06 23:43:28,089]\u001b[0m Trial 19 finished with value: 0.13654883720930233 and parameters: {'kandle_size': 28, 'mfi_range': 1350, 'mfi_value': 26}. Best is trial 1 with value: 0.2192466666666667.\u001b[0m\n",
      "\u001b[32m[I 2022-04-06 23:44:09,908]\u001b[0m Trial 20 finished with value: 0.07944897959183674 and parameters: {'kandle_size': 8, 'mfi_range': 150, 'mfi_value': 13}. Best is trial 1 with value: 0.2192466666666667.\u001b[0m\n",
      "\u001b[32m[I 2022-04-06 23:44:45,236]\u001b[0m Trial 21 finished with value: 0.14651707317073168 and parameters: {'kandle_size': 13, 'mfi_range': 1860, 'mfi_value': 24}. Best is trial 1 with value: 0.2192466666666667.\u001b[0m\n",
      "\u001b[32m[I 2022-04-06 23:45:20,863]\u001b[0m Trial 22 finished with value: 0.11731707317073171 and parameters: {'kandle_size': 15, 'mfi_range': 1770, 'mfi_value': 17}. Best is trial 1 with value: 0.2192466666666667.\u001b[0m\n",
      "\u001b[32m[I 2022-04-06 23:45:53,890]\u001b[0m Trial 23 finished with value: 0.03951578947368421 and parameters: {'kandle_size': 12, 'mfi_range': 1500, 'mfi_value': 21}. Best is trial 1 with value: 0.2192466666666667.\u001b[0m\n",
      "\u001b[32m[I 2022-04-06 23:46:28,409]\u001b[0m Trial 24 finished with value: 0.17857499999999998 and parameters: {'kandle_size': 11, 'mfi_range': 1800, 'mfi_value': 24}. Best is trial 1 with value: 0.2192466666666667.\u001b[0m\n",
      "\u001b[32m[I 2022-04-06 23:46:57,403]\u001b[0m Trial 25 finished with value: -0.01347647058823529 and parameters: {'kandle_size': 9, 'mfi_range': 1230, 'mfi_value': 14}. Best is trial 1 with value: 0.2192466666666667.\u001b[0m\n",
      "\u001b[32m[I 2022-04-06 23:47:31,839]\u001b[0m Trial 26 finished with value: 0.06508571428571429 and parameters: {'kandle_size': 18, 'mfi_range': 1980, 'mfi_value': 25}. Best is trial 1 with value: 0.2192466666666667.\u001b[0m\n",
      "\u001b[32m[I 2022-04-06 23:48:00,498]\u001b[0m Trial 27 finished with value: 0.07824571428571428 and parameters: {'kandle_size': 11, 'mfi_range': 1740, 'mfi_value': 19}. Best is trial 1 with value: 0.2192466666666667.\u001b[0m\n",
      "\u001b[32m[I 2022-04-06 23:48:32,368]\u001b[0m Trial 28 finished with value: 0.01686666666666666 and parameters: {'kandle_size': 7, 'mfi_range': 1470, 'mfi_value': 15}. Best is trial 1 with value: 0.2192466666666667.\u001b[0m\n",
      "\u001b[32m[I 2022-04-06 23:48:58,960]\u001b[0m Trial 29 finished with value: 0.031200000000000002 and parameters: {'kandle_size': 15, 'mfi_range': 510, 'mfi_value': 8}. Best is trial 1 with value: 0.2192466666666667.\u001b[0m\n",
      "\u001b[32m[I 2022-04-06 23:49:33,120]\u001b[0m Trial 30 finished with value: 0.10156190476190477 and parameters: {'kandle_size': 19, 'mfi_range': 1680, 'mfi_value': 28}. Best is trial 1 with value: 0.2192466666666667.\u001b[0m\n",
      "\u001b[32m[I 2022-04-06 23:50:04,924]\u001b[0m Trial 31 finished with value: 0.07633846153846154 and parameters: {'kandle_size': 13, 'mfi_range': 1800, 'mfi_value': 23}. Best is trial 1 with value: 0.2192466666666667.\u001b[0m\n",
      "\u001b[32m[I 2022-04-06 23:50:39,660]\u001b[0m Trial 32 finished with value: 0.15889302325581392 and parameters: {'kandle_size': 16, 'mfi_range': 1890, 'mfi_value': 30}. Best is trial 1 with value: 0.2192466666666667.\u001b[0m\n",
      "\u001b[32m[I 2022-04-06 23:51:13,125]\u001b[0m Trial 33 finished with value: 0.07429268292682926 and parameters: {'kandle_size': 11, 'mfi_range': 1590, 'mfi_value': 26}. Best is trial 1 with value: 0.2192466666666667.\u001b[0m\n",
      "\u001b[32m[I 2022-04-06 23:51:43,315]\u001b[0m Trial 34 finished with value: 0.1654864864864865 and parameters: {'kandle_size': 15, 'mfi_range': 1830, 'mfi_value': 18}. Best is trial 1 with value: 0.2192466666666667.\u001b[0m\n",
      "\u001b[32m[I 2022-04-06 23:52:14,211]\u001b[0m Trial 35 finished with value: 0.10260526315789474 and parameters: {'kandle_size': 16, 'mfi_range': 1650, 'mfi_value': 19}. Best is trial 1 with value: 0.2192466666666667.\u001b[0m\n",
      "\u001b[32m[I 2022-04-06 23:52:42,957]\u001b[0m Trial 36 finished with value: 0.07342857142857143 and parameters: {'kandle_size': 15, 'mfi_range': 1530, 'mfi_value': 11}. Best is trial 1 with value: 0.2192466666666667.\u001b[0m\n",
      "\u001b[32m[I 2022-04-06 23:53:12,918]\u001b[0m Trial 37 finished with value: 0.05662777777777777 and parameters: {'kandle_size': 17, 'mfi_range': 1320, 'mfi_value': 17}. Best is trial 1 with value: 0.2192466666666667.\u001b[0m\n",
      "\u001b[32m[I 2022-04-06 23:53:44,767]\u001b[0m Trial 38 finished with value: 0.09912972972972973 and parameters: {'kandle_size': 24, 'mfi_range': 1890, 'mfi_value': 12}. Best is trial 1 with value: 0.2192466666666667.\u001b[0m\n",
      "\u001b[32m[I 2022-04-06 23:54:17,781]\u001b[0m Trial 39 finished with value: 0.06912631578947367 and parameters: {'kandle_size': 10, 'mfi_range': 1680, 'mfi_value': 15}. Best is trial 1 with value: 0.2192466666666667.\u001b[0m\n",
      "\u001b[32m[I 2022-04-06 23:54:41,964]\u001b[0m Trial 40 finished with value: 0.08205714285714286 and parameters: {'kandle_size': 14, 'mfi_range': 1620, 'mfi_value': 7}. Best is trial 1 with value: 0.2192466666666667.\u001b[0m\n",
      "\u001b[32m[I 2022-04-06 23:55:19,780]\u001b[0m Trial 41 finished with value: 0.14649545454545457 and parameters: {'kandle_size': 12, 'mfi_range': 1800, 'mfi_value': 22}. Best is trial 1 with value: 0.2192466666666667.\u001b[0m\n",
      "\u001b[32m[I 2022-04-06 23:55:50,915]\u001b[0m Trial 42 finished with value: 0.02213888888888889 and parameters: {'kandle_size': 14, 'mfi_range': 1860, 'mfi_value': 18}. Best is trial 1 with value: 0.2192466666666667.\u001b[0m\n",
      "\u001b[32m[I 2022-04-06 23:56:20,301]\u001b[0m Trial 43 finished with value: 0.09678235294117647 and parameters: {'kandle_size': 12, 'mfi_range': 1740, 'mfi_value': 21}. Best is trial 1 with value: 0.2192466666666667.\u001b[0m\n",
      "\u001b[32m[I 2022-04-06 23:57:00,089]\u001b[0m Trial 44 finished with value: 0.06387826086956522 and parameters: {'kandle_size': 16, 'mfi_range': 1980, 'mfi_value': 23}. Best is trial 1 with value: 0.2192466666666667.\u001b[0m\n",
      "\u001b[32m[I 2022-04-06 23:57:38,093]\u001b[0m Trial 45 finished with value: 0.11864545454545454 and parameters: {'kandle_size': 10, 'mfi_range': 1890, 'mfi_value': 27}. Best is trial 1 with value: 0.2192466666666667.\u001b[0m\n",
      "\u001b[32m[I 2022-04-06 23:58:03,951]\u001b[0m Trial 46 finished with value: 0.09705999999999998 and parameters: {'kandle_size': 8, 'mfi_range': 1560, 'mfi_value': 24}. Best is trial 1 with value: 0.2192466666666667.\u001b[0m\n",
      "\u001b[32m[I 2022-04-06 23:58:40,796]\u001b[0m Trial 47 finished with value: 0.14542790697674418 and parameters: {'kandle_size': 17, 'mfi_range': 1020, 'mfi_value': 20}. Best is trial 1 with value: 0.2192466666666667.\u001b[0m\n",
      "\u001b[32m[I 2022-04-06 23:59:12,483]\u001b[0m Trial 48 finished with value: 0.13930810810810812 and parameters: {'kandle_size': 22, 'mfi_range': 1440, 'mfi_value': 18}. Best is trial 1 with value: 0.2192466666666667.\u001b[0m\n",
      "\u001b[32m[I 2022-04-06 23:59:43,657]\u001b[0m Trial 49 finished with value: 0.14822222222222223 and parameters: {'kandle_size': 13, 'mfi_range': 1710, 'mfi_value': 21}. Best is trial 1 with value: 0.2192466666666667.\u001b[0m\n",
      "\u001b[32m[I 2022-04-07 00:00:10,646]\u001b[0m Trial 50 finished with value: -0.01915483870967742 and parameters: {'kandle_size': 11, 'mfi_range': 1860, 'mfi_value': 16}. Best is trial 1 with value: 0.2192466666666667.\u001b[0m\n",
      "\u001b[32m[I 2022-04-07 00:00:45,773]\u001b[0m Trial 51 finished with value: 0.13622926829268295 and parameters: {'kandle_size': 14, 'mfi_range': 1920, 'mfi_value': 30}. Best is trial 1 with value: 0.2192466666666667.\u001b[0m\n",
      "\u001b[32m[I 2022-04-07 00:01:20,902]\u001b[0m Trial 52 finished with value: -0.008263414634146347 and parameters: {'kandle_size': 16, 'mfi_range': 1830, 'mfi_value': 30}. Best is trial 1 with value: 0.2192466666666667.\u001b[0m\n",
      "\u001b[32m[I 2022-04-07 00:01:57,951]\u001b[0m Trial 53 finished with value: 0.08459069767441861 and parameters: {'kandle_size': 15, 'mfi_range': 1980, 'mfi_value': 28}. Best is trial 1 with value: 0.2192466666666667.\u001b[0m\n",
      "\u001b[32m[I 2022-04-07 00:02:32,301]\u001b[0m Trial 54 finished with value: -0.022765853658536585 and parameters: {'kandle_size': 19, 'mfi_range': 1620, 'mfi_value': 25}. Best is trial 1 with value: 0.2192466666666667.\u001b[0m\n",
      "\u001b[32m[I 2022-04-07 00:03:02,459]\u001b[0m Trial 55 finished with value: 0.12467027027027026 and parameters: {'kandle_size': 12, 'mfi_range': 1800, 'mfi_value': 14}. Best is trial 1 with value: 0.2192466666666667.\u001b[0m\n",
      "\u001b[32m[I 2022-04-07 00:03:41,050]\u001b[0m Trial 56 finished with value: 0.09112500000000001 and parameters: {'kandle_size': 9, 'mfi_range': 930, 'mfi_value': 29}. Best is trial 1 with value: 0.2192466666666667.\u001b[0m\n",
      "\u001b[32m[I 2022-04-07 00:04:11,957]\u001b[0m Trial 57 finished with value: 0.08776842105263157 and parameters: {'kandle_size': 14, 'mfi_range': 1920, 'mfi_value': 10}. Best is trial 1 with value: 0.2192466666666667.\u001b[0m\n",
      "\u001b[32m[I 2022-04-07 00:04:43,062]\u001b[0m Trial 58 finished with value: 0.08008947368421052 and parameters: {'kandle_size': 18, 'mfi_range': 1740, 'mfi_value': 20}. Best is trial 1 with value: 0.2192466666666667.\u001b[0m\n",
      "\u001b[32m[I 2022-04-07 00:05:19,427]\u001b[0m Trial 59 finished with value: 0.07865777777777776 and parameters: {'kandle_size': 16, 'mfi_range': 630, 'mfi_value': 22}. Best is trial 1 with value: 0.2192466666666667.\u001b[0m\n",
      "\u001b[32m[I 2022-04-07 00:05:59,871]\u001b[0m Trial 60 finished with value: 0.005743999999999995 and parameters: {'kandle_size': 13, 'mfi_range': 30, 'mfi_value': 19}. Best is trial 1 with value: 0.2192466666666667.\u001b[0m\n",
      "\u001b[32m[I 2022-04-07 00:06:17,980]\u001b[0m Trial 61 finished with value: 0.16414545454545454 and parameters: {'kandle_size': 6, 'mfi_range': 1710, 'mfi_value': 7}. Best is trial 1 with value: 0.2192466666666667.\u001b[0m\n",
      "\u001b[32m[I 2022-04-07 00:06:46,525]\u001b[0m Trial 62 finished with value: 0.025060606060606058 and parameters: {'kandle_size': 7, 'mfi_range': 1710, 'mfi_value': 7}. Best is trial 1 with value: 0.2192466666666667.\u001b[0m\n",
      "\u001b[32m[I 2022-04-07 00:07:05,530]\u001b[0m Trial 63 finished with value: -0.13798181818181818 and parameters: {'kandle_size': 5, 'mfi_range': 1830, 'mfi_value': 5}. Best is trial 1 with value: 0.2192466666666667.\u001b[0m\n",
      "\u001b[32m[I 2022-04-07 00:07:31,856]\u001b[0m Trial 64 finished with value: 0.04490666666666667 and parameters: {'kandle_size': 6, 'mfi_range': 1920, 'mfi_value': 8}. Best is trial 1 with value: 0.2192466666666667.\u001b[0m\n",
      "\u001b[32m[I 2022-04-07 00:07:52,430]\u001b[0m Trial 65 finished with value: 0.09517500000000001 and parameters: {'kandle_size': 11, 'mfi_range': 1560, 'mfi_value': 6}. Best is trial 1 with value: 0.2192466666666667.\u001b[0m\n",
      "\u001b[32m[I 2022-04-07 00:08:24,466]\u001b[0m Trial 66 finished with value: 0.08223243243243243 and parameters: {'kandle_size': 8, 'mfi_range': 330, 'mfi_value': 12}. Best is trial 1 with value: 0.2192466666666667.\u001b[0m\n",
      "\u001b[32m[I 2022-04-07 00:08:50,151]\u001b[0m Trial 67 finished with value: 0.16882666666666665 and parameters: {'kandle_size': 15, 'mfi_range': 1770, 'mfi_value': 9}. Best is trial 1 with value: 0.2192466666666667.\u001b[0m\n",
      "\u001b[32m[I 2022-04-07 00:09:12,514]\u001b[0m Trial 68 finished with value: 0.034907692307692306 and parameters: {'kandle_size': 13, 'mfi_range': 1380, 'mfi_value': 9}. Best is trial 1 with value: 0.2192466666666667.\u001b[0m\n",
      "\u001b[32m[I 2022-04-07 00:09:42,536]\u001b[0m Trial 69 finished with value: -0.00037714285714286 and parameters: {'kandle_size': 15, 'mfi_range': 1650, 'mfi_value': 9}. Best is trial 1 with value: 0.2192466666666667.\u001b[0m\n",
      "\u001b[32m[I 2022-04-07 00:10:08,477]\u001b[0m Trial 70 finished with value: 0.09923333333333333 and parameters: {'kandle_size': 9, 'mfi_range': 1260, 'mfi_value': 10}. Best is trial 1 with value: 0.2192466666666667.\u001b[0m\n",
      "\u001b[32m[I 2022-04-07 00:10:30,289]\u001b[0m Trial 71 finished with value: 0.05072 and parameters: {'kandle_size': 16, 'mfi_range': 1770, 'mfi_value': 6}. Best is trial 1 with value: 0.2192466666666667.\u001b[0m\n",
      "\u001b[32m[I 2022-04-07 00:10:58,689]\u001b[0m Trial 72 finished with value: 0.11438181818181817 and parameters: {'kandle_size': 19, 'mfi_range': 1860, 'mfi_value': 8}. Best is trial 1 with value: 0.2192466666666667.\u001b[0m\n",
      "\u001b[32m[I 2022-04-07 00:11:25,538]\u001b[0m Trial 73 finished with value: 0.11250322580645161 and parameters: {'kandle_size': 15, 'mfi_range': 1500, 'mfi_value': 12}. Best is trial 1 with value: 0.2192466666666667.\u001b[0m\n",
      "\u001b[32m[I 2022-04-07 00:11:49,748]\u001b[0m Trial 74 finished with value: 0.002392857142857147 and parameters: {'kandle_size': 14, 'mfi_range': 1680, 'mfi_value': 11}. Best is trial 1 with value: 0.2192466666666667.\u001b[0m\n",
      "\u001b[32m[I 2022-04-07 00:12:23,880]\u001b[0m Trial 75 finished with value: 0.02608000000000001 and parameters: {'kandle_size': 12, 'mfi_range': 1140, 'mfi_value': 26}. Best is trial 1 with value: 0.2192466666666667.\u001b[0m\n",
      "\u001b[32m[I 2022-04-07 00:12:59,156]\u001b[0m Trial 76 finished with value: 0.0691609756097561 and parameters: {'kandle_size': 17, 'mfi_range': 1770, 'mfi_value': 14}. Best is trial 1 with value: 0.2192466666666667.\u001b[0m\n",
      "\u001b[32m[I 2022-04-07 00:13:28,886]\u001b[0m Trial 77 finished with value: 0.09737714285714286 and parameters: {'kandle_size': 10, 'mfi_range': 1980, 'mfi_value': 16}. Best is trial 1 with value: 0.2192466666666667.\u001b[0m\n",
      "\u001b[32m[I 2022-04-07 00:13:51,151]\u001b[0m Trial 78 finished with value: 0.17575384615384618 and parameters: {'kandle_size': 13, 'mfi_range': 1920, 'mfi_value': 6}. Best is trial 1 with value: 0.2192466666666667.\u001b[0m\n",
      "\u001b[32m[I 2022-04-07 00:14:13,652]\u001b[0m Trial 79 finished with value: 0.1327846153846154 and parameters: {'kandle_size': 11, 'mfi_range': 1830, 'mfi_value': 6}. Best is trial 1 with value: 0.2192466666666667.\u001b[0m\n",
      "\u001b[32m[I 2022-04-07 00:14:40,392]\u001b[0m Trial 80 finished with value: 0.1487935483870968 and parameters: {'kandle_size': 12, 'mfi_range': 1920, 'mfi_value': 7}. Best is trial 1 with value: 0.2192466666666667.\u001b[0m\n",
      "\u001b[32m[I 2022-04-07 00:15:05,164]\u001b[0m Trial 81 finished with value: 0.10551724137931034 and parameters: {'kandle_size': 14, 'mfi_range': 1710, 'mfi_value': 8}. Best is trial 1 with value: 0.2192466666666667.\u001b[0m\n",
      "\u001b[32m[I 2022-04-07 00:15:23,517]\u001b[0m Trial 82 finished with value: 0.006009523809523811 and parameters: {'kandle_size': 13, 'mfi_range': 1890, 'mfi_value': 5}. Best is trial 1 with value: 0.2192466666666667.\u001b[0m\n",
      "\u001b[32m[I 2022-04-07 00:15:59,697]\u001b[0m Trial 83 finished with value: 0.031742857142857135 and parameters: {'kandle_size': 18, 'mfi_range': 1800, 'mfi_value': 25}. Best is trial 1 with value: 0.2192466666666667.\u001b[0m\n",
      "\u001b[32m[I 2022-04-07 00:16:28,146]\u001b[0m Trial 84 finished with value: -0.06233939393939394 and parameters: {'kandle_size': 15, 'mfi_range': 1590, 'mfi_value': 9}. Best is trial 1 with value: 0.2192466666666667.\u001b[0m\n",
      "\u001b[32m[I 2022-04-07 00:16:52,338]\u001b[0m Trial 85 finished with value: 0.048735714285714285 and parameters: {'kandle_size': 16, 'mfi_range': 1950, 'mfi_value': 6}. Best is trial 1 with value: 0.2192466666666667.\u001b[0m\n",
      "\u001b[32m[I 2022-04-07 00:17:27,404]\u001b[0m Trial 86 finished with value: 0.12305365853658536 and parameters: {'kandle_size': 12, 'mfi_range': 1740, 'mfi_value': 27}. Best is trial 1 with value: 0.2192466666666667.\u001b[0m\n",
      "\u001b[32m[I 2022-04-07 00:18:02,942]\u001b[0m Trial 87 finished with value: 0.058786046511627894 and parameters: {'kandle_size': 17, 'mfi_range': 1860, 'mfi_value': 24}. Best is trial 1 with value: 0.2192466666666667.\u001b[0m\n",
      "\u001b[32m[I 2022-04-07 00:18:35,650]\u001b[0m Trial 88 finished with value: 0.0244 and parameters: {'kandle_size': 26, 'mfi_range': 1650, 'mfi_value': 17}. Best is trial 1 with value: 0.2192466666666667.\u001b[0m\n",
      "\u001b[32m[I 2022-04-07 00:19:08,185]\u001b[0m Trial 89 finished with value: 0.185555 and parameters: {'kandle_size': 10, 'mfi_range': 1800, 'mfi_value': 23}. Best is trial 1 with value: 0.2192466666666667.\u001b[0m\n",
      "\u001b[32m[I 2022-04-07 00:19:42,358]\u001b[0m Trial 90 finished with value: 0.0949952380952381 and parameters: {'kandle_size': 10, 'mfi_range': 1800, 'mfi_value': 22}. Best is trial 1 with value: 0.2192466666666667.\u001b[0m\n",
      "\u001b[32m[I 2022-04-07 00:20:15,688]\u001b[0m Trial 91 finished with value: 0.02301951219512194 and parameters: {'kandle_size': 13, 'mfi_range': 1920, 'mfi_value': 23}. Best is trial 1 with value: 0.2192466666666667.\u001b[0m\n",
      "\u001b[32m[I 2022-04-07 00:20:44,495]\u001b[0m Trial 92 finished with value: -0.05514285714285714 and parameters: {'kandle_size': 11, 'mfi_range': 1830, 'mfi_value': 21}. Best is trial 1 with value: 0.2192466666666667.\u001b[0m\n",
      "\u001b[32m[I 2022-04-07 00:21:19,129]\u001b[0m Trial 93 finished with value: 0.11640465116279067 and parameters: {'kandle_size': 14, 'mfi_range': 1740, 'mfi_value': 29}. Best is trial 1 with value: 0.2192466666666667.\u001b[0m\n",
      "\u001b[32m[I 2022-04-07 00:21:45,028]\u001b[0m Trial 94 finished with value: 0.0883125 and parameters: {'kandle_size': 15, 'mfi_range': 1950, 'mfi_value': 7}. Best is trial 1 with value: 0.2192466666666667.\u001b[0m\n",
      "\u001b[32m[I 2022-04-07 00:22:12,571]\u001b[0m Trial 95 finished with value: 0.0858 and parameters: {'kandle_size': 5, 'mfi_range': 1890, 'mfi_value': 18}. Best is trial 1 with value: 0.2192466666666667.\u001b[0m\n",
      "\u001b[32m[I 2022-04-07 00:22:40,258]\u001b[0m Trial 96 finished with value: 0.05405294117647058 and parameters: {'kandle_size': 13, 'mfi_range': 1680, 'mfi_value': 20}. Best is trial 1 with value: 0.2192466666666667.\u001b[0m\n",
      "\u001b[32m[I 2022-04-07 00:23:10,295]\u001b[0m Trial 97 finished with value: 0.07009729729729729 and parameters: {'kandle_size': 7, 'mfi_range': 1770, 'mfi_value': 24}. Best is trial 1 with value: 0.2192466666666667.\u001b[0m\n",
      "\u001b[32m[I 2022-04-07 00:23:43,023]\u001b[0m Trial 98 finished with value: 0.045673684210526325 and parameters: {'kandle_size': 9, 'mfi_range': 1830, 'mfi_value': 13}. Best is trial 1 with value: 0.2192466666666667.\u001b[0m\n",
      "\u001b[32m[I 2022-04-07 00:24:20,012]\u001b[0m Trial 99 finished with value: 0.10051162790697675 and parameters: {'kandle_size': 10, 'mfi_range': 1620, 'mfi_value': 23}. Best is trial 1 with value: 0.2192466666666667.\u001b[0m\n"
     ]
    }
   ],
   "source": [
    "\n",
    "study = optuna.create_study(direction='maximize')\n",
    "study.optimize(hyp_obj, n_trials=100)\n"
   ]
  },
  {
   "cell_type": "code",
   "execution_count": 52,
   "metadata": {},
   "outputs": [
    {
     "data": {
      "text/plain": [
       "{'value': 0.1858555762483131,\n",
       " 'params_kandle_size': 12.0,\n",
       " 'params_mfi_range': 1830.0,\n",
       " 'params_mfi_value': 15.8}"
      ]
     },
     "execution_count": 52,
     "metadata": {},
     "output_type": "execute_result"
    }
   ],
   "source": [
    "study.trials_dataframe().loc[:,['value','params_kandle_size','params_mfi_range','params_mfi_value']].sort_values(by='value',ascending=False).iloc[:5].mean().to_dict()"
   ]
  },
  {
   "cell_type": "code",
   "execution_count": 39,
   "metadata": {},
   "outputs": [
    {
     "data": {
      "text/html": [
       "<div>\n",
       "<style scoped>\n",
       "    .dataframe tbody tr th:only-of-type {\n",
       "        vertical-align: middle;\n",
       "    }\n",
       "\n",
       "    .dataframe tbody tr th {\n",
       "        vertical-align: top;\n",
       "    }\n",
       "\n",
       "    .dataframe thead th {\n",
       "        text-align: right;\n",
       "    }\n",
       "</style>\n",
       "<table border=\"1\" class=\"dataframe\">\n",
       "  <thead>\n",
       "    <tr style=\"text-align: right;\">\n",
       "      <th></th>\n",
       "      <th>number</th>\n",
       "      <th>value</th>\n",
       "      <th>datetime_start</th>\n",
       "      <th>datetime_complete</th>\n",
       "      <th>duration</th>\n",
       "      <th>params_kandle_size</th>\n",
       "      <th>params_mfi_range</th>\n",
       "      <th>params_mfi_value</th>\n",
       "      <th>state</th>\n",
       "    </tr>\n",
       "  </thead>\n",
       "  <tbody>\n",
       "    <tr>\n",
       "      <th>1</th>\n",
       "      <td>1</td>\n",
       "      <td>0.219247</td>\n",
       "      <td>2022-04-06 23:33:48.898637</td>\n",
       "      <td>2022-04-06 23:34:13.559490</td>\n",
       "      <td>0 days 00:00:24.660853</td>\n",
       "      <td>14</td>\n",
       "      <td>1830</td>\n",
       "      <td>10</td>\n",
       "      <td>COMPLETE</td>\n",
       "    </tr>\n",
       "    <tr>\n",
       "      <th>89</th>\n",
       "      <td>89</td>\n",
       "      <td>0.185555</td>\n",
       "      <td>2022-04-07 00:18:35.651664</td>\n",
       "      <td>2022-04-07 00:19:08.185370</td>\n",
       "      <td>0 days 00:00:32.533706</td>\n",
       "      <td>10</td>\n",
       "      <td>1800</td>\n",
       "      <td>23</td>\n",
       "      <td>COMPLETE</td>\n",
       "    </tr>\n",
       "    <tr>\n",
       "      <th>24</th>\n",
       "      <td>24</td>\n",
       "      <td>0.178575</td>\n",
       "      <td>2022-04-06 23:45:53.891277</td>\n",
       "      <td>2022-04-06 23:46:28.409417</td>\n",
       "      <td>0 days 00:00:34.518140</td>\n",
       "      <td>11</td>\n",
       "      <td>1800</td>\n",
       "      <td>24</td>\n",
       "      <td>COMPLETE</td>\n",
       "    </tr>\n",
       "    <tr>\n",
       "      <th>78</th>\n",
       "      <td>78</td>\n",
       "      <td>0.175754</td>\n",
       "      <td>2022-04-07 00:13:28.887394</td>\n",
       "      <td>2022-04-07 00:13:51.151051</td>\n",
       "      <td>0 days 00:00:22.263657</td>\n",
       "      <td>13</td>\n",
       "      <td>1920</td>\n",
       "      <td>6</td>\n",
       "      <td>COMPLETE</td>\n",
       "    </tr>\n",
       "    <tr>\n",
       "      <th>15</th>\n",
       "      <td>15</td>\n",
       "      <td>0.170147</td>\n",
       "      <td>2022-04-06 23:40:26.999180</td>\n",
       "      <td>2022-04-06 23:40:59.695107</td>\n",
       "      <td>0 days 00:00:32.695927</td>\n",
       "      <td>12</td>\n",
       "      <td>1800</td>\n",
       "      <td>16</td>\n",
       "      <td>COMPLETE</td>\n",
       "    </tr>\n",
       "    <tr>\n",
       "      <th>...</th>\n",
       "      <td>...</td>\n",
       "      <td>...</td>\n",
       "      <td>...</td>\n",
       "      <td>...</td>\n",
       "      <td>...</td>\n",
       "      <td>...</td>\n",
       "      <td>...</td>\n",
       "      <td>...</td>\n",
       "      <td>...</td>\n",
       "    </tr>\n",
       "    <tr>\n",
       "      <th>50</th>\n",
       "      <td>50</td>\n",
       "      <td>-0.019155</td>\n",
       "      <td>2022-04-06 23:59:43.658906</td>\n",
       "      <td>2022-04-07 00:00:10.646154</td>\n",
       "      <td>0 days 00:00:26.987248</td>\n",
       "      <td>11</td>\n",
       "      <td>1860</td>\n",
       "      <td>16</td>\n",
       "      <td>COMPLETE</td>\n",
       "    </tr>\n",
       "    <tr>\n",
       "      <th>54</th>\n",
       "      <td>54</td>\n",
       "      <td>-0.022766</td>\n",
       "      <td>2022-04-07 00:01:57.952312</td>\n",
       "      <td>2022-04-07 00:02:32.300860</td>\n",
       "      <td>0 days 00:00:34.348548</td>\n",
       "      <td>19</td>\n",
       "      <td>1620</td>\n",
       "      <td>25</td>\n",
       "      <td>COMPLETE</td>\n",
       "    </tr>\n",
       "    <tr>\n",
       "      <th>92</th>\n",
       "      <td>92</td>\n",
       "      <td>-0.055143</td>\n",
       "      <td>2022-04-07 00:20:15.689151</td>\n",
       "      <td>2022-04-07 00:20:44.494900</td>\n",
       "      <td>0 days 00:00:28.805749</td>\n",
       "      <td>11</td>\n",
       "      <td>1830</td>\n",
       "      <td>21</td>\n",
       "      <td>COMPLETE</td>\n",
       "    </tr>\n",
       "    <tr>\n",
       "      <th>84</th>\n",
       "      <td>84</td>\n",
       "      <td>-0.062339</td>\n",
       "      <td>2022-04-07 00:15:59.698286</td>\n",
       "      <td>2022-04-07 00:16:28.146662</td>\n",
       "      <td>0 days 00:00:28.448376</td>\n",
       "      <td>15</td>\n",
       "      <td>1590</td>\n",
       "      <td>9</td>\n",
       "      <td>COMPLETE</td>\n",
       "    </tr>\n",
       "    <tr>\n",
       "      <th>63</th>\n",
       "      <td>63</td>\n",
       "      <td>-0.137982</td>\n",
       "      <td>2022-04-07 00:06:46.526218</td>\n",
       "      <td>2022-04-07 00:07:05.530048</td>\n",
       "      <td>0 days 00:00:19.003830</td>\n",
       "      <td>5</td>\n",
       "      <td>1830</td>\n",
       "      <td>5</td>\n",
       "      <td>COMPLETE</td>\n",
       "    </tr>\n",
       "  </tbody>\n",
       "</table>\n",
       "<p>100 rows × 9 columns</p>\n",
       "</div>"
      ],
      "text/plain": [
       "    number     value             datetime_start          datetime_complete  \\\n",
       "1        1  0.219247 2022-04-06 23:33:48.898637 2022-04-06 23:34:13.559490   \n",
       "89      89  0.185555 2022-04-07 00:18:35.651664 2022-04-07 00:19:08.185370   \n",
       "24      24  0.178575 2022-04-06 23:45:53.891277 2022-04-06 23:46:28.409417   \n",
       "78      78  0.175754 2022-04-07 00:13:28.887394 2022-04-07 00:13:51.151051   \n",
       "15      15  0.170147 2022-04-06 23:40:26.999180 2022-04-06 23:40:59.695107   \n",
       "..     ...       ...                        ...                        ...   \n",
       "50      50 -0.019155 2022-04-06 23:59:43.658906 2022-04-07 00:00:10.646154   \n",
       "54      54 -0.022766 2022-04-07 00:01:57.952312 2022-04-07 00:02:32.300860   \n",
       "92      92 -0.055143 2022-04-07 00:20:15.689151 2022-04-07 00:20:44.494900   \n",
       "84      84 -0.062339 2022-04-07 00:15:59.698286 2022-04-07 00:16:28.146662   \n",
       "63      63 -0.137982 2022-04-07 00:06:46.526218 2022-04-07 00:07:05.530048   \n",
       "\n",
       "                 duration  params_kandle_size  params_mfi_range  \\\n",
       "1  0 days 00:00:24.660853                  14              1830   \n",
       "89 0 days 00:00:32.533706                  10              1800   \n",
       "24 0 days 00:00:34.518140                  11              1800   \n",
       "78 0 days 00:00:22.263657                  13              1920   \n",
       "15 0 days 00:00:32.695927                  12              1800   \n",
       "..                    ...                 ...               ...   \n",
       "50 0 days 00:00:26.987248                  11              1860   \n",
       "54 0 days 00:00:34.348548                  19              1620   \n",
       "92 0 days 00:00:28.805749                  11              1830   \n",
       "84 0 days 00:00:28.448376                  15              1590   \n",
       "63 0 days 00:00:19.003830                   5              1830   \n",
       "\n",
       "    params_mfi_value     state  \n",
       "1                 10  COMPLETE  \n",
       "89                23  COMPLETE  \n",
       "24                24  COMPLETE  \n",
       "78                 6  COMPLETE  \n",
       "15                16  COMPLETE  \n",
       "..               ...       ...  \n",
       "50                16  COMPLETE  \n",
       "54                25  COMPLETE  \n",
       "92                21  COMPLETE  \n",
       "84                 9  COMPLETE  \n",
       "63                 5  COMPLETE  \n",
       "\n",
       "[100 rows x 9 columns]"
      ]
     },
     "execution_count": 39,
     "metadata": {},
     "output_type": "execute_result"
    }
   ],
   "source": [
    "study.trials_dataframe().sort_values(by='value',ascending=False)"
   ]
  },
  {
   "cell_type": "code",
   "execution_count": 29,
   "metadata": {},
   "outputs": [],
   "source": [
    "def hyp_obj_div(trial):\n",
    "    \n",
    "    price_coef = trial.suggest_float('price_coef',-0.02,0)\n",
    "    index_coef = trial.suggest_float('index_coef',0,.02)\n",
    "    shift = trial.suggest_int('shift',5,500,5)\n",
    "    has_more = []\n",
    "    rng_more = []\n",
    "    for i in range(50):\n",
    "        idx = np.random.randint(df.shape[0]-2000)\n",
    "        idx_df = df.iloc[idx-2000:idx+2000].index\n",
    "        buy_idx = div_check(df.loc[idx_df],price_coef=price_coef,index_coef=index_coef,shift=shift).where(lambda x: x==True).dropna().index\n",
    "        try:\n",
    "            has_more.append(np.mean(validate_strategy(data=df.loc[idx_df,'price'],idx=buy_idx,probability=False)))\n",
    "            rng_more.append(np.mean(validate_strategy(data=df.loc[idx_df,'price'],idx=np.random.choice(idx_df,len(buy_idx)),probability=False)))\n",
    "        except:\n",
    "            pass\n",
    "\n",
    "    return np.mean(np.array(has_more) - np.array(rng_more))"
   ]
  },
  {
   "cell_type": "code",
   "execution_count": 30,
   "metadata": {},
   "outputs": [
    {
     "name": "stderr",
     "output_type": "stream",
     "text": [
      "\u001b[32m[I 2022-04-08 00:28:44,937]\u001b[0m A new study created in memory with name: no-name-12ab52a3-5d21-4cf5-b463-3fb7e99c0ed3\u001b[0m\n",
      "\u001b[32m[I 2022-04-08 00:28:57,642]\u001b[0m Trial 0 finished with value: 0.007920000000000003 and parameters: {'price_coef': -3.076549517617641e-05, 'index_coef': 0.019792766491963012, 'shift': 285}. Best is trial 0 with value: 0.007920000000000003.\u001b[0m\n",
      "\u001b[32m[I 2022-04-08 00:29:05,976]\u001b[0m Trial 1 finished with value: -0.010437500000000002 and parameters: {'price_coef': -0.011615660395292812, 'index_coef': 0.013921607973821134, 'shift': 265}. Best is trial 0 with value: 0.007920000000000003.\u001b[0m\n",
      "\u001b[32m[I 2022-04-08 00:29:14,002]\u001b[0m Trial 2 finished with value: 0.029193548387096785 and parameters: {'price_coef': -0.017107325596586013, 'index_coef': 0.0027244262739820903, 'shift': 420}. Best is trial 2 with value: 0.029193548387096785.\u001b[0m\n",
      "\u001b[32m[I 2022-04-08 00:29:24,460]\u001b[0m Trial 3 finished with value: 0.06625 and parameters: {'price_coef': -0.010003578686558975, 'index_coef': 0.004327462808013371, 'shift': 340}. Best is trial 3 with value: 0.06625.\u001b[0m\n",
      "\u001b[32m[I 2022-04-08 00:29:34,927]\u001b[0m Trial 4 finished with value: 0.07697499999999999 and parameters: {'price_coef': -0.0063558434188540555, 'index_coef': 0.01792098317734537, 'shift': 445}. Best is trial 4 with value: 0.07697499999999999.\u001b[0m\n",
      "\u001b[32m[I 2022-04-08 00:29:47,608]\u001b[0m Trial 5 finished with value: 0.0505625 and parameters: {'price_coef': -0.004563184572736658, 'index_coef': 0.01307892856569499, 'shift': 295}. Best is trial 4 with value: 0.07697499999999999.\u001b[0m\n",
      "\u001b[32m[I 2022-04-08 00:29:57,405]\u001b[0m Trial 6 finished with value: 2.702702702702705e-05 and parameters: {'price_coef': -0.0064929111971015335, 'index_coef': 0.014466877126211641, 'shift': 115}. Best is trial 4 with value: 0.07697499999999999.\u001b[0m\n",
      "\u001b[32m[I 2022-04-08 00:30:10,041]\u001b[0m Trial 7 finished with value: 0.07137500000000001 and parameters: {'price_coef': -0.006343745906165807, 'index_coef': 0.013739141870555041, 'shift': 255}. Best is trial 4 with value: 0.07697499999999999.\u001b[0m\n",
      "\u001b[32m[I 2022-04-08 00:30:18,688]\u001b[0m Trial 8 finished with value: 0.04774193548387095 and parameters: {'price_coef': -0.01179341794576279, 'index_coef': 0.006064592031390972, 'shift': 145}. Best is trial 4 with value: 0.07697499999999999.\u001b[0m\n",
      "\u001b[32m[I 2022-04-08 00:30:31,985]\u001b[0m Trial 9 finished with value: 0.031380000000000005 and parameters: {'price_coef': -0.0011537926108905645, 'index_coef': 0.008920992189733894, 'shift': 390}. Best is trial 4 with value: 0.07697499999999999.\u001b[0m\n",
      "\u001b[32m[I 2022-04-08 00:30:37,165]\u001b[0m Trial 10 finished with value: 0.07544444444444445 and parameters: {'price_coef': -0.018801953915651856, 'index_coef': 0.01972657676805777, 'shift': 500}. Best is trial 4 with value: 0.07697499999999999.\u001b[0m\n",
      "\u001b[32m[I 2022-04-08 00:30:43,123]\u001b[0m Trial 11 finished with value: 0.10257142857142855 and parameters: {'price_coef': -0.018905176297891728, 'index_coef': 0.019777376289381577, 'shift': 500}. Best is trial 11 with value: 0.10257142857142855.\u001b[0m\n",
      "\u001b[32m[I 2022-04-08 00:30:51,267]\u001b[0m Trial 12 finished with value: -0.004689655172413794 and parameters: {'price_coef': -0.015214163847840745, 'index_coef': 0.01703938254824383, 'shift': 495}. Best is trial 11 with value: 0.10257142857142855.\u001b[0m\n",
      "\u001b[32m[I 2022-04-08 00:30:55,187]\u001b[0m Trial 13 finished with value: 0.14792307692307693 and parameters: {'price_coef': -0.013733392220274188, 'index_coef': 0.017081883221170702, 'shift': 25}. Best is trial 13 with value: 0.14792307692307693.\u001b[0m\n",
      "\u001b[32m[I 2022-04-08 00:30:59,072]\u001b[0m Trial 14 finished with value: 0.3880769230769231 and parameters: {'price_coef': -0.014920691659765783, 'index_coef': 5.758607693143701e-05, 'shift': 15}. Best is trial 14 with value: 0.3880769230769231.\u001b[0m\n",
      "\u001b[32m[I 2022-04-08 00:31:02,384]\u001b[0m Trial 15 finished with value: -0.016909090909090905 and parameters: {'price_coef': -0.014853076624573035, 'index_coef': 0.0008168074947837085, 'shift': 5}. Best is trial 14 with value: 0.3880769230769231.\u001b[0m\n",
      "\u001b[32m[I 2022-04-08 00:31:04,538]\u001b[0m Trial 16 finished with value: -0.12049999999999998 and parameters: {'price_coef': -0.014124316700049464, 'index_coef': 0.008205214227676108, 'shift': 5}. Best is trial 14 with value: 0.3880769230769231.\u001b[0m\n",
      "\u001b[32m[I 2022-04-08 00:31:10,276]\u001b[0m Trial 17 finished with value: -0.03895 and parameters: {'price_coef': -0.013334442268312732, 'index_coef': 0.011087571078786804, 'shift': 95}. Best is trial 14 with value: 0.3880769230769231.\u001b[0m\n",
      "\u001b[32m[I 2022-04-08 00:31:16,337]\u001b[0m Trial 18 finished with value: 0.0590952380952381 and parameters: {'price_coef': -0.017069601523443445, 'index_coef': 0.006148918041390679, 'shift': 185}. Best is trial 14 with value: 0.3880769230769231.\u001b[0m\n",
      "\u001b[32m[I 2022-04-08 00:31:25,839]\u001b[0m Trial 19 finished with value: 0.08123529411764706 and parameters: {'price_coef': -0.009707749266414545, 'index_coef': 0.00023901452848559476, 'shift': 60}. Best is trial 14 with value: 0.3880769230769231.\u001b[0m\n",
      "\u001b[32m[I 2022-04-08 00:31:33,880]\u001b[0m Trial 20 finished with value: 0.007931034482758635 and parameters: {'price_coef': -0.016520608984390846, 'index_coef': 0.010475106018327155, 'shift': 185}. Best is trial 14 with value: 0.3880769230769231.\u001b[0m\n",
      "\u001b[32m[I 2022-04-08 00:31:38,057]\u001b[0m Trial 21 finished with value: 0.23142857142857148 and parameters: {'price_coef': -0.019983409641070374, 'index_coef': 0.01679023790051153, 'shift': 55}. Best is trial 14 with value: 0.3880769230769231.\u001b[0m\n",
      "\u001b[32m[I 2022-04-08 00:31:41,507]\u001b[0m Trial 22 finished with value: 0.06345454545454544 and parameters: {'price_coef': -0.019776653145848252, 'index_coef': 0.016313443510888852, 'shift': 55}. Best is trial 14 with value: 0.3880769230769231.\u001b[0m\n",
      "\u001b[32m[I 2022-04-08 00:31:45,886]\u001b[0m Trial 23 finished with value: 0.01385714285714285 and parameters: {'price_coef': -0.012317770347936857, 'index_coef': 0.015890132789793922, 'shift': 55}. Best is trial 14 with value: 0.3880769230769231.\u001b[0m\n",
      "\u001b[32m[I 2022-04-08 00:31:55,958]\u001b[0m Trial 24 finished with value: -0.0178 and parameters: {'price_coef': -0.009674971035790389, 'index_coef': 0.012483528904252653, 'shift': 190}. Best is trial 14 with value: 0.3880769230769231.\u001b[0m\n",
      "\u001b[32m[I 2022-04-08 00:31:57,855]\u001b[0m Trial 25 finished with value: -0.217 and parameters: {'price_coef': -0.01639263160672406, 'index_coef': 0.014936417821672768, 'shift': 40}. Best is trial 14 with value: 0.3880769230769231.\u001b[0m\n",
      "\u001b[32m[I 2022-04-08 00:32:00,516]\u001b[0m Trial 26 finished with value: 0.13437500000000002 and parameters: {'price_coef': -0.01817747109838225, 'index_coef': 0.018176507011898563, 'shift': 95}. Best is trial 14 with value: 0.3880769230769231.\u001b[0m\n",
      "\u001b[32m[I 2022-04-08 00:32:05,430]\u001b[0m Trial 27 finished with value: 0.004588235294117651 and parameters: {'price_coef': -0.015702544280674212, 'index_coef': 0.011755190078047057, 'shift': 130}. Best is trial 14 with value: 0.3880769230769231.\u001b[0m\n",
      "\u001b[32m[I 2022-04-08 00:32:09,220]\u001b[0m Trial 28 finished with value: 0.39684615384615374 and parameters: {'price_coef': -0.013477831602458069, 'index_coef': 0.008945570625398705, 'shift': 20}. Best is trial 28 with value: 0.39684615384615374.\u001b[0m\n",
      "\u001b[32m[I 2022-04-08 00:32:21,087]\u001b[0m Trial 29 finished with value: 0.03188636363636363 and parameters: {'price_coef': -0.008256353879234502, 'index_coef': 0.002411052427387389, 'shift': 80}. Best is trial 28 with value: 0.39684615384615374.\u001b[0m\n",
      "\u001b[32m[I 2022-04-08 00:32:25,329]\u001b[0m Trial 30 finished with value: 0.010466666666666676 and parameters: {'price_coef': -0.019876291793461523, 'index_coef': 0.006739949397350569, 'shift': 155}. Best is trial 28 with value: 0.39684615384615374.\u001b[0m\n",
      "\u001b[32m[I 2022-04-08 00:32:28,301]\u001b[0m Trial 31 finished with value: 0.010399999999999987 and parameters: {'price_coef': -0.013493800187861562, 'index_coef': 0.009508395982251132, 'shift': 25}. Best is trial 28 with value: 0.39684615384615374.\u001b[0m\n",
      "\u001b[32m[I 2022-04-08 00:32:33,272]\u001b[0m Trial 32 finished with value: 0.13933333333333334 and parameters: {'price_coef': -0.012614157980365828, 'index_coef': 0.007510398088898008, 'shift': 30}. Best is trial 28 with value: 0.39684615384615374.\u001b[0m\n",
      "\u001b[32m[I 2022-04-08 00:32:35,243]\u001b[0m Trial 33 finished with value: 0.13183333333333333 and parameters: {'price_coef': -0.014429211600508893, 'index_coef': 0.01840096447958933, 'shift': 5}. Best is trial 28 with value: 0.39684615384615374.\u001b[0m\n",
      "\u001b[32m[I 2022-04-08 00:32:42,880]\u001b[0m Trial 34 finished with value: -0.013793103448275864 and parameters: {'price_coef': -0.010548349471195316, 'index_coef': 0.003016458558201848, 'shift': 75}. Best is trial 28 with value: 0.39684615384615374.\u001b[0m\n",
      "\u001b[32m[I 2022-04-08 00:32:52,755]\u001b[0m Trial 35 finished with value: 0.004270270270270267 and parameters: {'price_coef': -0.011718326589185769, 'index_coef': 0.004963930869049401, 'shift': 225}. Best is trial 28 with value: 0.39684615384615374.\u001b[0m\n",
      "\u001b[32m[I 2022-04-08 00:32:57,409]\u001b[0m Trial 36 finished with value: 0.12299999999999998 and parameters: {'price_coef': -0.017692123790976493, 'index_coef': 0.015185504411194912, 'shift': 100}. Best is trial 28 with value: 0.39684615384615374.\u001b[0m\n",
      "\u001b[32m[I 2022-04-08 00:33:01,259]\u001b[0m Trial 37 finished with value: -0.008153846153846149 and parameters: {'price_coef': -0.013393029098834459, 'index_coef': 0.01711341985746114, 'shift': 35}. Best is trial 28 with value: 0.39684615384615374.\u001b[0m\n",
      "\u001b[32m[I 2022-04-08 00:33:10,116]\u001b[0m Trial 38 finished with value: 0.028718749999999998 and parameters: {'price_coef': -0.010772323244837657, 'index_coef': 0.013482142363575193, 'shift': 290}. Best is trial 28 with value: 0.39684615384615374.\u001b[0m\n",
      "\u001b[32m[I 2022-04-08 00:33:16,043]\u001b[0m Trial 39 finished with value: 0.04804761904761904 and parameters: {'price_coef': -0.015856833021458926, 'index_coef': 0.0042230596041027794, 'shift': 120}. Best is trial 28 with value: 0.39684615384615374.\u001b[0m\n",
      "\u001b[32m[I 2022-04-08 00:33:26,027]\u001b[0m Trial 40 finished with value: 0.049189189189189186 and parameters: {'price_coef': -0.008757339882662488, 'index_coef': 0.001798945504556209, 'shift': 70}. Best is trial 28 with value: 0.39684615384615374.\u001b[0m\n",
      "\u001b[32m[I 2022-04-08 00:33:30,753]\u001b[0m Trial 41 finished with value: 0.0645 and parameters: {'price_coef': -0.013371461199018973, 'index_coef': 0.008157367232019094, 'shift': 30}. Best is trial 28 with value: 0.39684615384615374.\u001b[0m\n",
      "\u001b[32m[I 2022-04-08 00:33:36,442]\u001b[0m Trial 42 finished with value: -0.06185 and parameters: {'price_coef': -0.01245329704912159, 'index_coef': 0.006884870048157736, 'shift': 30}. Best is trial 28 with value: 0.39684615384615374.\u001b[0m\n",
      "\u001b[32m[I 2022-04-08 00:33:41,634]\u001b[0m Trial 43 finished with value: -0.10583333333333333 and parameters: {'price_coef': -0.012508876664525884, 'index_coef': 0.012094605334760557, 'shift': 50}. Best is trial 28 with value: 0.39684615384615374.\u001b[0m\n",
      "\u001b[32m[I 2022-04-08 00:33:55,116]\u001b[0m Trial 44 finished with value: -0.031 and parameters: {'price_coef': -0.0023029822370886103, 'index_coef': 0.007758556702738676, 'shift': 20}. Best is trial 28 with value: 0.39684615384615374.\u001b[0m\n",
      "\u001b[32m[I 2022-04-08 00:34:05,664]\u001b[0m Trial 45 finished with value: 0.0382051282051282 and parameters: {'price_coef': -0.010835972150244084, 'index_coef': 0.009517520661395246, 'shift': 330}. Best is trial 28 with value: 0.39684615384615374.\u001b[0m\n",
      "\u001b[32m[I 2022-04-08 00:34:12,904]\u001b[0m Trial 46 finished with value: 0.08580769230769232 and parameters: {'price_coef': -0.014316859682214385, 'index_coef': 0.0190348079450992, 'shift': 80}. Best is trial 28 with value: 0.39684615384615374.\u001b[0m\n",
      "\u001b[32m[I 2022-04-08 00:34:19,377]\u001b[0m Trial 47 finished with value: 0.07082608695652173 and parameters: {'price_coef': -0.015278832099635351, 'index_coef': 0.0044460496713350965, 'shift': 155}. Best is trial 28 with value: 0.39684615384615374.\u001b[0m\n",
      "\u001b[32m[I 2022-04-08 00:34:24,806]\u001b[0m Trial 48 finished with value: 0.04526315789473686 and parameters: {'price_coef': -0.00730303412243224, 'index_coef': 0.017249422002163985, 'shift': 10}. Best is trial 28 with value: 0.39684615384615374.\u001b[0m\n",
      "\u001b[32m[I 2022-04-08 00:34:30,938]\u001b[0m Trial 49 finished with value: 0.04531818181818181 and parameters: {'price_coef': -0.017384031183394717, 'index_coef': 0.010953359700152085, 'shift': 105}. Best is trial 28 with value: 0.39684615384615374.\u001b[0m\n",
      "\u001b[32m[I 2022-04-08 00:34:42,981]\u001b[0m Trial 50 finished with value: -0.025644444444444442 and parameters: {'price_coef': -0.0053494347977478245, 'index_coef': 0.013887711102268361, 'shift': 390}. Best is trial 28 with value: 0.39684615384615374.\u001b[0m\n",
      "\u001b[32m[I 2022-04-08 00:34:46,826]\u001b[0m Trial 51 finished with value: 0.16107692307692306 and parameters: {'price_coef': -0.018580523984674528, 'index_coef': 0.018257397663995957, 'shift': 85}. Best is trial 28 with value: 0.39684615384615374.\u001b[0m\n",
      "\u001b[32m[I 2022-04-08 00:34:49,687]\u001b[0m Trial 52 finished with value: 0.13622222222222222 and parameters: {'price_coef': -0.018640666340740717, 'index_coef': 0.01904288987615118, 'shift': 45}. Best is trial 28 with value: 0.39684615384615374.\u001b[0m\n",
      "\u001b[32m[I 2022-04-08 00:34:52,774]\u001b[0m Trial 53 finished with value: 0.35219999999999996 and parameters: {'price_coef': -0.019366361676619172, 'index_coef': 0.016024624567171734, 'shift': 60}. Best is trial 28 with value: 0.39684615384615374.\u001b[0m\n",
      "\u001b[32m[I 2022-04-08 00:34:58,413]\u001b[0m Trial 54 finished with value: 0.07790000000000001 and parameters: {'price_coef': -0.019287640921133505, 'index_coef': 0.016147327799832266, 'shift': 135}. Best is trial 28 with value: 0.39684615384615374.\u001b[0m\n",
      "\u001b[32m[I 2022-04-08 00:35:04,013]\u001b[0m Trial 55 finished with value: -0.021249999999999998 and parameters: {'price_coef': -0.017869545656633665, 'index_coef': 0.017682951939623274, 'shift': 70}. Best is trial 28 with value: 0.39684615384615374.\u001b[0m\n",
      "\u001b[32m[I 2022-04-08 00:35:07,396]\u001b[0m Trial 56 finished with value: -0.0749090909090909 and parameters: {'price_coef': -0.016478090200320462, 'index_coef': 0.016641501331221168, 'shift': 55}. Best is trial 28 with value: 0.39684615384615374.\u001b[0m\n",
      "\u001b[32m[I 2022-04-08 00:35:12,751]\u001b[0m Trial 57 finished with value: 0.0848421052631579 and parameters: {'price_coef': -0.018561084861283435, 'index_coef': 0.015025475934539323, 'shift': 90}. Best is trial 28 with value: 0.39684615384615374.\u001b[0m\n",
      "\u001b[32m[I 2022-04-08 00:35:16,850]\u001b[0m Trial 58 finished with value: 0.2954285714285714 and parameters: {'price_coef': -0.019290243925855242, 'index_coef': 0.01989771096262444, 'shift': 115}. Best is trial 28 with value: 0.39684615384615374.\u001b[0m\n",
      "\u001b[32m[I 2022-04-08 00:35:20,934]\u001b[0m Trial 59 finished with value: 0.281 and parameters: {'price_coef': -0.01923998477726991, 'index_coef': 0.019427951865178324, 'shift': 120}. Best is trial 28 with value: 0.39684615384615374.\u001b[0m\n",
      "\u001b[32m[I 2022-04-08 00:35:24,823]\u001b[0m Trial 60 finished with value: -0.05130769230769231 and parameters: {'price_coef': -0.01935868274834424, 'index_coef': 0.019983268221885345, 'shift': 170}. Best is trial 28 with value: 0.39684615384615374.\u001b[0m\n",
      "\u001b[32m[I 2022-04-08 00:35:28,170]\u001b[0m Trial 61 finished with value: 0.2532727272727273 and parameters: {'price_coef': -0.019337912241724133, 'index_coef': 0.018725079621120085, 'shift': 120}. Best is trial 28 with value: 0.39684615384615374.\u001b[0m\n",
      "\u001b[32m[I 2022-04-08 00:35:33,625]\u001b[0m Trial 62 finished with value: 0.01689473684210526 and parameters: {'price_coef': -0.019774785894774185, 'index_coef': 0.018617652035455318, 'shift': 220}. Best is trial 28 with value: 0.39684615384615374.\u001b[0m\n",
      "\u001b[32m[I 2022-04-08 00:35:37,816]\u001b[0m Trial 63 finished with value: 0.08964285714285714 and parameters: {'price_coef': -0.01713600934100656, 'index_coef': 0.01947667433223483, 'shift': 110}. Best is trial 28 with value: 0.39684615384615374.\u001b[0m\n",
      "\u001b[32m[I 2022-04-08 00:35:42,457]\u001b[0m Trial 64 finished with value: 0.15275000000000002 and parameters: {'price_coef': -0.01919650366449968, 'index_coef': 0.017794947480624115, 'shift': 135}. Best is trial 28 with value: 0.39684615384615374.\u001b[0m\n",
      "\u001b[32m[I 2022-04-08 00:35:47,860]\u001b[0m Trial 65 finished with value: 0.12463157894736838 and parameters: {'price_coef': -0.017714620320488872, 'index_coef': 0.019165728463996286, 'shift': 120}. Best is trial 28 with value: 0.39684615384615374.\u001b[0m\n",
      "\u001b[32m[I 2022-04-08 00:35:52,522]\u001b[0m Trial 66 finished with value: 0.017874999999999974 and parameters: {'price_coef': -0.01819320638941553, 'index_coef': 0.015627441075648455, 'shift': 65}. Best is trial 28 with value: 0.39684615384615374.\u001b[0m\n",
      "\u001b[32m[I 2022-04-08 00:35:53,301]\u001b[0m Trial 67 finished with value: 1.0 and parameters: {'price_coef': -0.019920887652479548, 'index_coef': 0.017651227767071613, 'shift': 15}. Best is trial 67 with value: 1.0.\u001b[0m\n",
      "\u001b[32m[I 2022-04-08 00:35:57,814]\u001b[0m Trial 68 finished with value: 0.0259375 and parameters: {'price_coef': -0.016960230821194126, 'index_coef': 0.017598196786948742, 'shift': 205}. Best is trial 67 with value: 1.0.\u001b[0m\n",
      "\u001b[32m[I 2022-04-08 00:35:59,048]\u001b[0m Trial 69 finished with value: 0.10899999999999999 and parameters: {'price_coef': -0.019987166658539963, 'index_coef': 0.01864506938546025, 'shift': 15}. Best is trial 67 with value: 1.0.\u001b[0m\n",
      "\u001b[32m[I 2022-04-08 00:36:05,186]\u001b[0m Trial 70 finished with value: -0.017608695652173913 and parameters: {'price_coef': -0.01905448392748339, 'index_coef': 0.01993518355070697, 'shift': 455}. Best is trial 67 with value: 1.0.\u001b[0m\n",
      "\u001b[32m[I 2022-04-08 00:36:08,843]\u001b[0m Trial 71 finished with value: 0.2761538461538462 and parameters: {'price_coef': -0.01829645745941797, 'index_coef': 0.01686957415912722, 'shift': 40}. Best is trial 67 with value: 1.0.\u001b[0m\n",
      "\u001b[32m[I 2022-04-08 00:36:12,510]\u001b[0m Trial 72 finished with value: 0.0956153846153846 and parameters: {'price_coef': -0.01817335363352776, 'index_coef': 0.01297559344403385, 'shift': 40}. Best is trial 67 with value: 1.0.\u001b[0m\n",
      "\u001b[32m[I 2022-04-08 00:36:13,986]\u001b[0m Trial 73 finished with value: 0.448 and parameters: {'price_coef': -0.016006493781328002, 'index_coef': 0.016425693369478005, 'shift': 15}. Best is trial 67 with value: 1.0.\u001b[0m\n",
      "\u001b[32m[I 2022-04-08 00:36:15,727]\u001b[0m Trial 74 finished with value: 0.6 and parameters: {'price_coef': -0.015927661978762435, 'index_coef': 0.016852360470097912, 'shift': 5}. Best is trial 67 with value: 1.0.\u001b[0m\n",
      "\u001b[32m[I 2022-04-08 00:36:16,985]\u001b[0m Trial 75 finished with value: 0.19133333333333333 and parameters: {'price_coef': -0.01566839887977084, 'index_coef': 0.015924198906499678, 'shift': 5}. Best is trial 67 with value: 1.0.\u001b[0m\n",
      "\u001b[32m[I 2022-04-08 00:36:19,889]\u001b[0m Trial 76 finished with value: 0.06409999999999999 and parameters: {'price_coef': -0.016007340465740292, 'index_coef': 0.014315522391752409, 'shift': 20}. Best is trial 67 with value: 1.0.\u001b[0m\n",
      "\u001b[32m[I 2022-04-08 00:36:22,630]\u001b[0m Trial 77 finished with value: 0.11155555555555556 and parameters: {'price_coef': -0.015054672267736591, 'index_coef': 0.014586994241536325, 'shift': 5}. Best is trial 67 with value: 1.0.\u001b[0m\n",
      "\u001b[32m[I 2022-04-08 00:36:24,118]\u001b[0m Trial 78 finished with value: 0.06774999999999999 and parameters: {'price_coef': -0.01683335880344375, 'index_coef': 0.01646449061511037, 'shift': 20}. Best is trial 67 with value: 1.0.\u001b[0m\n",
      "\u001b[32m[I 2022-04-08 00:36:29,556]\u001b[0m Trial 79 finished with value: 0.07735 and parameters: {'price_coef': -0.014807941326059353, 'index_coef': 0.015436021182084158, 'shift': 60}. Best is trial 67 with value: 1.0.\u001b[0m\n",
      "\u001b[32m[I 2022-04-08 00:36:38,049]\u001b[0m Trial 80 finished with value: 0.05156249999999998 and parameters: {'price_coef': -0.014131467671149265, 'index_coef': 0.01940317619392223, 'shift': 265}. Best is trial 67 with value: 1.0.\u001b[0m\n",
      "\u001b[32m[I 2022-04-08 00:36:41,678]\u001b[0m Trial 81 finished with value: -0.05761538461538461 and parameters: {'price_coef': -0.016146206040256537, 'index_coef': 0.01740041494117559, 'shift': 40}. Best is trial 67 with value: 1.0.\u001b[0m\n",
      "\u001b[32m[I 2022-04-08 00:36:43,906]\u001b[0m Trial 82 finished with value: 0.23199999999999998 and parameters: {'price_coef': -0.017631035455803877, 'index_coef': 0.01804279776261168, 'shift': 40}. Best is trial 67 with value: 1.0.\u001b[0m\n",
      "\u001b[32m[I 2022-04-08 00:36:46,653]\u001b[0m Trial 83 finished with value: -0.005888888888888888 and parameters: {'price_coef': -0.018277091787805885, 'index_coef': 0.016934333065560983, 'shift': 25}. Best is trial 67 with value: 1.0.\u001b[0m\n",
      "\u001b[32m[I 2022-04-08 00:36:49,842]\u001b[0m Trial 84 finished with value: 0.12418181818181817 and parameters: {'price_coef': -0.016662455095347244, 'index_coef': 0.01664132196435244, 'shift': 55}. Best is trial 67 with value: 1.0.\u001b[0m\n",
      "\u001b[32m[I 2022-04-08 00:36:52,275]\u001b[0m Trial 85 finished with value: -0.03649999999999999 and parameters: {'price_coef': -0.018859601506473072, 'index_coef': 0.0031177214548042892, 'shift': 15}. Best is trial 67 with value: 1.0.\u001b[0m\n",
      "\u001b[32m[I 2022-04-08 00:36:54,497]\u001b[0m Trial 86 finished with value: 0.13714285714285715 and parameters: {'price_coef': -0.015382513722410687, 'index_coef': 0.017990318277599615, 'shift': 30}. Best is trial 67 with value: 1.0.\u001b[0m\n",
      "\u001b[32m[I 2022-04-08 00:36:59,618]\u001b[0m Trial 87 finished with value: 0.0378421052631579 and parameters: {'price_coef': -0.01731142862587322, 'index_coef': 0.0012361116278835932, 'shift': 75}. Best is trial 67 with value: 1.0.\u001b[0m\n",
      "\u001b[32m[I 2022-04-08 00:37:02,353]\u001b[0m Trial 88 finished with value: 0.05500000000000002 and parameters: {'price_coef': -0.019502101598295848, 'index_coef': 0.016284457589899635, 'shift': 50}. Best is trial 67 with value: 1.0.\u001b[0m\n",
      "\u001b[32m[I 2022-04-08 00:37:09,878]\u001b[0m Trial 89 finished with value: 0.017357142857142866 and parameters: {'price_coef': -0.013765989096948657, 'index_coef': 1.7276215257100436e-05, 'shift': 95}. Best is trial 67 with value: 1.0.\u001b[0m\n",
      "\u001b[32m[I 2022-04-08 00:37:11,384]\u001b[0m Trial 90 finished with value: 0.5 and parameters: {'price_coef': -0.01886524113018899, 'index_coef': 0.006022845547933109, 'shift': 5}. Best is trial 67 with value: 1.0.\u001b[0m\n",
      "\u001b[32m[I 2022-04-08 00:37:13,424]\u001b[0m Trial 91 finished with value: -0.15666666666666665 and parameters: {'price_coef': -0.01865824863565666, 'index_coef': 0.005660430761799422, 'shift': 5}. Best is trial 67 with value: 1.0.\u001b[0m\n",
      "\u001b[32m[I 2022-04-08 00:37:16,044]\u001b[0m Trial 92 finished with value: -0.086 and parameters: {'price_coef': -0.0180018831481493, 'index_coef': 0.009239335708634024, 'shift': 35}. Best is trial 67 with value: 1.0.\u001b[0m\n",
      "\u001b[32m[I 2022-04-08 00:37:17,578]\u001b[0m Trial 93 finished with value: -0.05199999999999999 and parameters: {'price_coef': -0.019683906027508257, 'index_coef': 0.009942083827881964, 'shift': 15}. Best is trial 67 with value: 1.0.\u001b[0m\n",
      "\u001b[32m[I 2022-04-08 00:37:22,922]\u001b[0m Trial 94 finished with value: -0.004578947368421042 and parameters: {'price_coef': -0.013006364198531517, 'index_coef': 0.006479330675237359, 'shift': 45}. Best is trial 67 with value: 1.0.\u001b[0m\n",
      "\u001b[32m[I 2022-04-08 00:37:25,239]\u001b[0m Trial 95 finished with value: 0.41428571428571426 and parameters: {'price_coef': -0.018931774408088194, 'index_coef': 0.011344984703739267, 'shift': 30}. Best is trial 67 with value: 1.0.\u001b[0m\n",
      "\u001b[32m[I 2022-04-08 00:37:26,797]\u001b[0m Trial 96 finished with value: 0.2 and parameters: {'price_coef': -0.019056195549145914, 'index_coef': 0.011239482054102756, 'shift': 25}. Best is trial 67 with value: 1.0.\u001b[0m\n",
      "\u001b[32m[I 2022-04-08 00:37:30,398]\u001b[0m Trial 97 finished with value: 0.07291666666666667 and parameters: {'price_coef': -0.018865966822081463, 'index_coef': 0.008505113913607582, 'shift': 65}. Best is trial 67 with value: 1.0.\u001b[0m\n",
      "\u001b[32m[I 2022-04-08 00:37:33,910]\u001b[0m Trial 98 finished with value: 0.05908333333333332 and parameters: {'price_coef': -0.016226425814947574, 'index_coef': 0.005495103280379603, 'shift': 15}. Best is trial 67 with value: 1.0.\u001b[0m\n",
      "\u001b[32m[I 2022-04-08 00:37:42,440]\u001b[0m Trial 99 finished with value: 0.12853125 and parameters: {'price_coef': -0.014852379854934074, 'index_coef': 0.007354812271176148, 'shift': 325}. Best is trial 67 with value: 1.0.\u001b[0m\n"
     ]
    }
   ],
   "source": [
    "\n",
    "study_div = optuna.create_study(direction='maximize')\n",
    "study_div.optimize(hyp_obj_div, n_trials=100)\n"
   ]
  },
  {
   "cell_type": "code",
   "execution_count": 64,
   "metadata": {},
   "outputs": [
    {
     "data": {
      "text/plain": [
       "{'params_index_coef': 0.013659422371663978,\n",
       " 'params_price_coef': -0.01793041179016943,\n",
       " 'params_shift': 14.0}"
      ]
     },
     "execution_count": 64,
     "metadata": {},
     "output_type": "execute_result"
    }
   ],
   "source": [
    "study_div.trials_dataframe().sort_values(by='value',ascending=False).loc[:,['value','params_index_coef','params_price_coef','params_shift']].iloc[:5].mean().iloc[1:].to_dict()"
   ]
  },
  {
   "cell_type": "code",
   "execution_count": 46,
   "metadata": {},
   "outputs": [
    {
     "data": {
      "text/plain": [
       "<AxesSubplot:xlabel='params_index_coef', ylabel='value'>"
      ]
     },
     "execution_count": 46,
     "metadata": {},
     "output_type": "execute_result"
    },
    {
     "data": {
      "image/png": "[encoded data removed]",
      "text/plain": [
       "<Figure size 1080x432 with 1 Axes>"
      ]
     },
     "metadata": {},
     "output_type": "display_data"
    }
   ],
   "source": [
    "study_div.trials_dataframe().sort_values(by='value',ascending=False).loc[:,['value','params_index_coef','params_price_coef','params_shift']].plot.scatter(y='value',x='params_index_coef')"
   ]
  }
 ],
 "metadata": {
  "interpreter": {
   "hash": "a7801a1fce19b4dbca8b7bce4059e552648312323ed9d108616a9100a6d7a4a9"
  },
  "kernelspec": {
   "display_name": "Python 3.10.0 64-bit",
   "language": "python",
   "name": "python3"
  },
  "language_info": {
   "codemirror_mode": {
    "name": "ipython",
    "version": 3
   },
   "file_extension": ".py",
   "mimetype": "text/x-python",
   "name": "python",
   "nbconvert_exporter": "python",
   "pygments_lexer": "ipython3",
   "version": "3.10.0"
  },
  "orig_nbformat": 4
 },
 "nbformat": 4,
 "nbformat_minor": 2
}
