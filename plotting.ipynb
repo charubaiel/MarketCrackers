{
 "cells": [
  {
   "cell_type": "markdown",
   "metadata": {},
   "source": [
    "## tech"
   ]
  },
  {
   "cell_type": "code",
   "execution_count": 1,
   "metadata": {},
   "outputs": [],
   "source": [
    "import pandas as pd\n",
    "import numpy as np\n",
    "import plotly.express as px\n",
    "import plotly.graph_objects as go\n",
    "from tqdm import tqdm"
   ]
  },
  {
   "cell_type": "code",
   "execution_count": 2,
   "metadata": {},
   "outputs": [],
   "source": [
    "df = pd.read_json('data/data_save.txt',lines=True,dtype={'E':'datetime64[ms]'},chunksize=100000)"
   ]
  },
  {
   "cell_type": "code",
   "execution_count": 3,
   "metadata": {},
   "outputs": [
    {
     "name": "stderr",
     "output_type": "stream",
     "text": [
      "12it [00:15,  1.30s/it]\n"
     ]
    }
   ],
   "source": [
    "du = pd.DataFrame()\n",
    "trade = pd.DataFrame()\n",
    "for data in tqdm(df):\n",
    "    du = du.append(data.query('e==\"depthUpdate\"').dropna(axis=1))\n",
    "    trade = trade.append(data.query('e!=\"depthUpdate\"').dropna(axis=1))\n"
   ]
  },
  {
   "cell_type": "code",
   "execution_count": 4,
   "metadata": {},
   "outputs": [
    {
     "data": {
      "text/plain": [
       "Timedelta('0 days 16:24:39.354000')"
      ]
     },
     "execution_count": 4,
     "metadata": {},
     "output_type": "execute_result"
    }
   ],
   "source": [
    "trade['E'].agg(['min','max']).diff().iloc[-1]"
   ]
  },
  {
   "cell_type": "markdown",
   "metadata": {},
   "source": [
    "### data transform"
   ]
  },
  {
   "cell_type": "code",
   "execution_count": 4,
   "metadata": {},
   "outputs": [],
   "source": [
    "trade['type'] = trade['p'].diff().where(lambda x: x!=0).fillna(method='ffill').mul(100).clip(-1,1).map({-1:'sell',1:'buy'})"
   ]
  },
  {
   "cell_type": "code",
   "execution_count": 5,
   "metadata": {},
   "outputs": [],
   "source": [
    "n_ticks= 500\n",
    "trade[f'ticks_{n_ticks}'] = np.arange(0,trade.shape[0]) // n_ticks\n",
    "du[f'ticks_{n_ticks}'] = np.arange(0,du.shape[0]) // n_ticks\n",
    "trade[f'ticks_{n_ticks}_dt'] = trade.groupby(f'ticks_{n_ticks}')['E'].transform('first')\n",
    "du[f'ticks_{n_ticks}_dt'] = du.groupby(f'ticks_{n_ticks}')['E'].transform('first')\n"
   ]
  },
  {
   "cell_type": "code",
   "execution_count": 6,
   "metadata": {},
   "outputs": [],
   "source": [
    "n_ticks= 10\n",
    "trade[f'ticks_{n_ticks}'] = np.arange(0,trade.shape[0]) // n_ticks\n",
    "du[f'ticks_{n_ticks}'] = np.arange(0,du.shape[0]) // n_ticks\n",
    "trade[f'ticks_{n_ticks}_dt'] = trade.groupby(f'ticks_{n_ticks}')['E'].transform('first')\n",
    "du[f'ticks_{n_ticks}_dt'] = du.groupby(f'ticks_{n_ticks}')['E'].transform('first')"
   ]
  },
  {
   "cell_type": "code",
   "execution_count": 7,
   "metadata": {},
   "outputs": [],
   "source": [
    "du['b_first_q']=du['b'].explode().dropna().apply(lambda x: x[1] if x[1]!='0.00000000' else np.nan).groupby(level=0).first().astype(float)\n",
    "du['a_first_q']=du['a'].explode().dropna().apply(lambda x: x[1] if x[1]!='0.00000000' else np.nan).groupby(level=0).first().astype(float)\n",
    "\n",
    "du['b_first_p']=du['b'].explode().dropna().apply(lambda x: x[0] if x[1]!='0.00000000' else np.nan).groupby(level=0).first().astype(float)\n",
    "du['a_first_p']=du['a'].explode().dropna().apply(lambda x: x[0] if x[1]!='0.00000000' else np.nan).groupby(level=0).first().astype(float)"
   ]
  },
  {
   "cell_type": "code",
   "execution_count": 8,
   "metadata": {},
   "outputs": [],
   "source": [
    "du['diff_p']=du[['b_first_p','a_first_p']].diff(axis=1).iloc[:,-1]\n",
    "du['diff_q']=du[['b_first_q','a_first_q']].diff(axis=1).iloc[:,-1]"
   ]
  },
  {
   "cell_type": "code",
   "execution_count": 9,
   "metadata": {},
   "outputs": [],
   "source": [
    "du['is_seller_pres_bid']=du['b_first_q'].diff().apply(lambda x: x if x>0 else 0)\n",
    "du['is_buyer_pres_bid']=du[['b_first_q','b_first_p']].diff().apply(lambda x: abs(x['b_first_q']) *-1  if x['b_first_p'] <0 else 0,axis=1)\n",
    "\n",
    "du['is_seller_pres_ask']=du['a_first_q'].diff().apply(lambda x: x if x>0 else 0)\n",
    "du['is_buyer_pres_ask']=du[['a_first_q','a_first_p']].diff().apply(lambda x: abs(x['a_first_q']) *-1  if x['a_first_p'] <0 else 0,axis=1)"
   ]
  },
  {
   "cell_type": "code",
   "execution_count": 10,
   "metadata": {},
   "outputs": [],
   "source": [
    "ttl_pres_df = du.groupby('ticks_500_dt')[['is_buyer_pres_bid','is_seller_pres_bid']].sum().melt(ignore_index=False).reset_index()\\\n",
    "            .append(du.groupby('ticks_500_dt')[['is_buyer_pres_ask','is_seller_pres_ask']].sum().melt(ignore_index=False).reset_index())\n",
    "ttl_pres_df['type']=ttl_pres_df['variable'].str.contains('bid').map({True:'bid',False:'ask'})"
   ]
  },
  {
   "cell_type": "markdown",
   "metadata": {},
   "source": [
    "## Plots"
   ]
  },
  {
   "cell_type": "markdown",
   "metadata": {},
   "source": [
    "### 1"
   ]
  },
  {
   "cell_type": "code",
   "execution_count": 12,
   "metadata": {},
   "outputs": [],
   "source": [
    "px.line(trade.groupby(pd.Grouper(key='E',freq='10S'))['t'].nunique(),title='Индикатор скорости сделок за 10 секунд').write_html('plots/1_speed.html')"
   ]
  },
  {
   "cell_type": "code",
   "execution_count": 14,
   "metadata": {},
   "outputs": [],
   "source": [
    "plot_1_df = pd.DataFrame()\n",
    "for i in [10,30,60,120,500,1000,2000,3000,5000]:\n",
    "    plot_1_df[i]=trade.groupby(pd.Grouper(key='E',freq=f'{i}S'))['t'].nunique()"
   ]
  },
  {
   "cell_type": "code",
   "execution_count": 21,
   "metadata": {},
   "outputs": [],
   "source": [
    "px.line(plot_1_df.melt(ignore_index=False).reset_index().dropna(),x='E',y='value',animation_frame='variable').write_html('plots/1_speed.html')"
   ]
  },
  {
   "cell_type": "markdown",
   "metadata": {},
   "source": [
    "### 2"
   ]
  },
  {
   "cell_type": "code",
   "execution_count": 13,
   "metadata": {},
   "outputs": [],
   "source": [
    "px.line(trade.groupby([pd.Grouper(key='E',freq='10S')])['type'].value_counts().unstack(),title='Индикатор интенсивности продаж/покупок').write_html('plots/2_buysell_value_count.html')"
   ]
  },
  {
   "cell_type": "code",
   "execution_count": 29,
   "metadata": {},
   "outputs": [
    {
     "name": "stderr",
     "output_type": "stream",
     "text": [
      "100%|██████████| 9/9 [00:03<00:00,  2.65it/s]\n"
     ]
    }
   ],
   "source": [
    "plot_2_df = pd.DataFrame()\n",
    "for i in tqdm([10,30,60,120,500,1000,2000,3000,5000]):\n",
    "    plot_2_df[i] = trade.groupby(pd.Grouper(key='E',freq=f'{i}S'))['type'].value_counts()\n",
    "px.line(plot_2_df.melt(ignore_index=False).reset_index().dropna(),x='E',y='value',color='type',animation_frame='variable').write_html('plots/2_buysell_value_count.html')"
   ]
  },
  {
   "cell_type": "markdown",
   "metadata": {},
   "source": [
    "### 3"
   ]
  },
  {
   "cell_type": "code",
   "execution_count": 14,
   "metadata": {},
   "outputs": [],
   "source": [
    "px.line(du.groupby(pd.Grouper(key='E',freq='10S'))['diff_p'].mean(),title='Индикатор спреда').write_html('plots/3_spread.html')"
   ]
  },
  {
   "cell_type": "code",
   "execution_count": 32,
   "metadata": {},
   "outputs": [
    {
     "name": "stderr",
     "output_type": "stream",
     "text": [
      "100%|██████████| 9/9 [00:00<00:00, 118.60it/s]\n"
     ]
    }
   ],
   "source": [
    "plot_3_df = pd.DataFrame()\n",
    "for i in tqdm([10,30,60,120,500,1000,2000,3000,5000]):\n",
    "    plot_3_df[i] = du.groupby(pd.Grouper(key='E',freq=f'{i}S'))['diff_p'].mean()"
   ]
  },
  {
   "cell_type": "code",
   "execution_count": 37,
   "metadata": {},
   "outputs": [],
   "source": [
    "px.line(plot_3_df.melt(ignore_index=False).reset_index().dropna(),title='Индикатор спреда',x='E',y='value',animation_frame='variable').write_html('plots/3_spread.html')"
   ]
  },
  {
   "cell_type": "code",
   "execution_count": 15,
   "metadata": {},
   "outputs": [],
   "source": [
    "px.line(du.groupby(pd.Grouper(key='E',freq='10S'))[['b_first_p','a_first_p']].mean()\\\n",
    "    .join(trade.groupby(pd.Grouper(key='E',freq='10S'))['p'].last())\\\n",
    "        ,title='Линии поведение бида и аска относительно цены последней сделки').write_html('plots/3_bidask_price_comp.html')"
   ]
  },
  {
   "cell_type": "markdown",
   "metadata": {},
   "source": [
    "### 4"
   ]
  },
  {
   "cell_type": "code",
   "execution_count": 16,
   "metadata": {},
   "outputs": [],
   "source": [
    "px.bar(du.groupby('ticks_500_dt')[['is_buyer_pres_bid','is_seller_pres_bid']].sum().melt(ignore_index=False).reset_index(),x='ticks_500_dt',y='value',color='variable',title='Чистые бары давлений').write_html('plots/4_raw_bar_pressure_bid.html')\n",
    "px.bar(du.groupby('ticks_500_dt')[['is_buyer_pres_ask','is_seller_pres_ask']].sum().melt(ignore_index=False).reset_index(),x='ticks_500_dt',y='value',color='variable',title='Чистые бары давлений').write_html('plots/4_raw_bar_pressure_ask.html')"
   ]
  },
  {
   "cell_type": "code",
   "execution_count": 17,
   "metadata": {},
   "outputs": [],
   "source": [
    "px.bar(ttl_pres_df,x='ticks_500_dt',y='value',color='variable',facet_row='type',title='Чистые бары давлений').write_html('plots/4_raw_bar_pressure.html')"
   ]
  },
  {
   "cell_type": "code",
   "execution_count": 18,
   "metadata": {},
   "outputs": [],
   "source": [
    "px.bar(du.groupby('ticks_500_dt')[['is_buyer_pres_bid','is_seller_pres_bid']].sum().sum(axis=1),title='Разница давлений').write_html('plots/4_diff_bar_pressure_bid.html')\n",
    "px.bar(du.groupby('ticks_500_dt')[['is_buyer_pres_ask','is_seller_pres_ask']].sum().sum(axis=1),title='Разница давлений').write_html('plots/4_diff_bar_pressure_ask.html')"
   ]
  },
  {
   "cell_type": "code",
   "execution_count": 19,
   "metadata": {},
   "outputs": [],
   "source": [
    "px.bar(ttl_pres_df.groupby(['ticks_500_dt','type'])['value'].sum().reset_index(),x='ticks_500_dt',y='value',facet_row='type',color='type',title='Разница давлений').write_html('plots/4_diff_bar_pressure.html')"
   ]
  },
  {
   "cell_type": "markdown",
   "metadata": {},
   "source": [
    "### 5"
   ]
  },
  {
   "cell_type": "code",
   "execution_count": 20,
   "metadata": {},
   "outputs": [],
   "source": [
    "olhc = trade.groupby('ticks_10_dt')['p'].agg(['first','last','min','max'])\n",
    "olhc_500 = trade.groupby('ticks_500_dt')['p'].agg(['first','last','min','max'])"
   ]
  },
  {
   "cell_type": "code",
   "execution_count": 21,
   "metadata": {},
   "outputs": [],
   "source": [
    "fig = go.Figure(data=go.Ohlc(x=olhc.index,open=olhc['first'],close=olhc['last'],low=olhc['min'],high=olhc['max']))\n",
    "fig.write_html('plots/5_ohlc.html')"
   ]
  },
  {
   "cell_type": "code",
   "execution_count": 22,
   "metadata": {},
   "outputs": [],
   "source": [
    "fig = go.Figure(data=go.Ohlc(x=olhc_500.index,open=olhc_500['first'],close=olhc_500['last'],low=olhc_500['min'],high=olhc_500['max']))\n",
    "fig.write_html('plots/5_ohlc_500.html')"
   ]
  },
  {
   "cell_type": "code",
   "execution_count": null,
   "metadata": {},
   "outputs": [],
   "source": []
  }
 ],
 "metadata": {
  "interpreter": {
   "hash": "31f2aee4e71d21fbe5cf8b01ff0e069b9275f58929596ceb00d14d90e3e16cd6"
  },
  "kernelspec": {
   "display_name": "Python 3.8.10 64-bit",
   "language": "python",
   "name": "python3"
  },
  "language_info": {
   "codemirror_mode": {
    "name": "ipython",
    "version": 3
   },
   "file_extension": ".py",
   "mimetype": "text/x-python",
   "name": "python",
   "nbconvert_exporter": "python",
   "pygments_lexer": "ipython3",
   "version": "3.8.10"
  },
  "orig_nbformat": 4
 },
 "nbformat": 4,
 "nbformat_minor": 2
}
