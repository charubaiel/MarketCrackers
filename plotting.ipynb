{
 "cells": [
  {
   "cell_type": "code",
   "execution_count": 1,
   "metadata": {},
   "outputs": [],
   "source": [
    "import pandas as pd\n",
    "import plotly.express as px\n",
    "import plotly.graph_objects as go"
   ]
  },
  {
   "cell_type": "code",
   "execution_count": 2,
   "metadata": {},
   "outputs": [],
   "source": [
    "df = pd.read_json('data_save.txt',lines=True,dtype={'E':'datetime64[ms]'})"
   ]
  },
  {
   "cell_type": "code",
   "execution_count": 3,
   "metadata": {},
   "outputs": [],
   "source": [
    "du = df.query('e==\"depthUpdate\"').dropna(axis=1)\n",
    "trade = df.query('e!=\"depthUpdate\"').dropna(axis=1)\n",
    "del df"
   ]
  },
  {
   "cell_type": "code",
   "execution_count": 4,
   "metadata": {},
   "outputs": [
    {
     "data": {
      "text/plain": [
       "Timedelta('0 days 16:24:39.354000')"
      ]
     },
     "execution_count": 4,
     "metadata": {},
     "output_type": "execute_result"
    }
   ],
   "source": [
    "trade['E'].agg(['min','max']).diff().iloc[-1]"
   ]
  },
  {
   "cell_type": "code",
   "execution_count": 5,
   "metadata": {},
   "outputs": [],
   "source": [
    "n_ticks= 500\n",
    "trade[f'ticks_{n_ticks}'] = np.arange(0,trade.shape[0]) // n_ticks\n",
    "du[f'ticks_{n_ticks}'] = np.arange(0,du.shape[0]) // n_ticks"
   ]
  },
  {
   "cell_type": "code",
   "execution_count": 6,
   "metadata": {},
   "outputs": [],
   "source": [
    "n_ticks= 10\n",
    "trade[f'ticks_{n_ticks}'] = np.arange(0,trade.shape[0]) // n_ticks\n",
    "du[f'ticks_{n_ticks}'] = np.arange(0,du.shape[0]) // n_ticks"
   ]
  },
  {
   "cell_type": "markdown",
   "metadata": {},
   "source": [
    "1)"
   ]
  },
  {
   "cell_type": "code",
   "execution_count": 7,
   "metadata": {},
   "outputs": [],
   "source": [
    "px.line(trade.groupby(pd.Grouper(key='E',freq='10S'))['t'].nunique(),title='Индикатор скорости сделок за 10 секунд').write_html('plots/1_speed.html')"
   ]
  },
  {
   "cell_type": "markdown",
   "metadata": {},
   "source": [
    "2)"
   ]
  },
  {
   "cell_type": "code",
   "execution_count": 8,
   "metadata": {},
   "outputs": [],
   "source": [
    "trade['type'] = trade['p'].diff().where(lambda x: x!=0).fillna(method='ffill').mul(100).clip(-1,1).map({-1:'sell',1:'buy'})"
   ]
  },
  {
   "cell_type": "code",
   "execution_count": 9,
   "metadata": {},
   "outputs": [],
   "source": [
    "px.line(trade.groupby([pd.Grouper(key='E',freq='10S')])['type'].value_counts().unstack(),title='Индикатор интенсивности продаж/покупок').write_html('plots/2_buysell_value_count.html')"
   ]
  },
  {
   "cell_type": "markdown",
   "metadata": {},
   "source": [
    "3)"
   ]
  },
  {
   "cell_type": "code",
   "execution_count": 10,
   "metadata": {},
   "outputs": [],
   "source": [
    "du['b_first_q']=du['b'].explode().dropna().apply(lambda x: x[1] if x[1]!='0.00000000' else np.nan).groupby(level=0).first().astype(float)\n",
    "du['a_first_q']=du['a'].explode().dropna().apply(lambda x: x[1] if x[1]!='0.00000000' else np.nan).groupby(level=0).first().astype(float)\n",
    "\n",
    "du['b_first_p']=du['b'].explode().dropna().apply(lambda x: x[0] if x[1]!='0.00000000' else np.nan).groupby(level=0).first().astype(float)\n",
    "du['a_first_p']=du['a'].explode().dropna().apply(lambda x: x[0] if x[1]!='0.00000000' else np.nan).groupby(level=0).first().astype(float)"
   ]
  },
  {
   "cell_type": "code",
   "execution_count": 11,
   "metadata": {},
   "outputs": [],
   "source": [
    "du['diff_p']=du[['b_first_p','a_first_p']].diff(axis=1).iloc[:,-1]\n",
    "du['diff_q']=du[['b_first_q','a_first_q']].diff(axis=1).iloc[:,-1]"
   ]
  },
  {
   "cell_type": "code",
   "execution_count": 12,
   "metadata": {},
   "outputs": [],
   "source": [
    "px.line(du.groupby(pd.Grouper(key='E',freq='10S'))['diff_p'].mean(),title='Индикатор спреда').write_html('plots/3_spread.html')"
   ]
  },
  {
   "cell_type": "code",
   "execution_count": 13,
   "metadata": {},
   "outputs": [],
   "source": [
    "px.line(du.groupby(pd.Grouper(key='E',freq='10S'))['b_first_p','a_first_p'].mean()\\\n",
    "    .join(trade.groupby(pd.Grouper(key='E',freq='10S'))['p'].last())\\\n",
    "        ,title='Линии поведение бида и аска относительно цены последней сделки').write_html('plots/3_bidask_price_comp.html')"
   ]
  },
  {
   "cell_type": "code",
   "execution_count": 14,
   "metadata": {},
   "outputs": [],
   "source": [
    "olhc = trade.groupby('ticks_10')['p'].agg(['first','last','min','max'])\n",
    "olhc_500 = trade.groupby('ticks_500')['p'].agg(['first','last','min','max'])"
   ]
  },
  {
   "cell_type": "code",
   "execution_count": 20,
   "metadata": {},
   "outputs": [],
   "source": [
    "fig = go.Figure(data=go.Ohlc(x=olhc.index,open=olhc['first'],close=olhc['last'],low=olhc['min'],high=olhc['max']))\n",
    "fig.write_html('plots/5_ohlc.html')"
   ]
  },
  {
   "cell_type": "code",
   "execution_count": 21,
   "metadata": {},
   "outputs": [],
   "source": [
    "fig = go.Figure(data=go.Ohlc(x=olhc_500.index,open=olhc_500['first'],close=olhc_500['last'],low=olhc_500['min'],high=olhc_500['max']))\n",
    "fig.write_html('plots/5_ohlc_500.html')"
   ]
  }
 ],
 "metadata": {
  "interpreter": {
   "hash": "31f2aee4e71d21fbe5cf8b01ff0e069b9275f58929596ceb00d14d90e3e16cd6"
  },
  "kernelspec": {
   "display_name": "Python 3.8.10 64-bit",
   "language": "python",
   "name": "python3"
  },
  "language_info": {
   "codemirror_mode": {
    "name": "ipython",
    "version": 3
   },
   "file_extension": ".py",
   "mimetype": "text/x-python",
   "name": "python",
   "nbconvert_exporter": "python",
   "pygments_lexer": "ipython3",
   "version": "3.10.0"
  },
  "orig_nbformat": 4
 },
 "nbformat": 4,
 "nbformat_minor": 2
}
