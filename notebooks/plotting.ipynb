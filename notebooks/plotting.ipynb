{
 "cells": [
  {
   "cell_type": "markdown",
   "metadata": {},
   "source": [
    "## tech"
   ]
  },
  {
   "cell_type": "code",
   "execution_count": 1,
   "metadata": {},
   "outputs": [],
   "source": [
    "import pandas as pd\n",
    "import numpy as np\n",
    "import plotly.express as px\n",
    "import plotly.graph_objects as go\n",
    "from tqdm import tqdm"
   ]
  },
  {
   "cell_type": "code",
   "execution_count": 2,
   "metadata": {},
   "outputs": [],
   "source": [
    "df = pd.read_json('../data/data.txt',lines=True,dtype={'E':'datetime64[ms]'},chunksize=200000)"
   ]
  },
  {
   "cell_type": "code",
   "execution_count": 3,
   "metadata": {},
   "outputs": [],
   "source": [
    "name_dict = {\n",
    "  \"E\": 'event_time',\n",
    "  \"s\": 'symbol',\n",
    "  \"t\": 'trade_id',\n",
    "  \"p\": \"price\",     \n",
    "  \"q\": \"quantity\",       \n",
    "  \"b\": 'buyer_order_id',\n",
    "  \"a\": 'seller_order_id', \n",
    "  \"T\": 'trade_time', \n",
    "  \"m\": 'is_marker_maker'\n",
    "}"
   ]
  },
  {
   "cell_type": "code",
   "execution_count": 4,
   "metadata": {},
   "outputs": [
    {
     "name": "stderr",
     "output_type": "stream",
     "text": [
      "2it [00:45, 22.82s/it]\n"
     ]
    }
   ],
   "source": [
    "\n",
    "trade = pd.DataFrame()\n",
    "for data in tqdm(df):\n",
    "\n",
    "    tmp = data.query('e!=\"depthUpdate\"').dropna(axis=1)\n",
    "    tmp['type'] = tmp['p'].diff().where(lambda x: x!=0).fillna(method='ffill').mul(100).clip(-1,1).map({-1:'sell',1:'buy'})\n",
    "    tmp=tmp.rename(columns=name_dict)\n",
    "    trade = trade.append(tmp)\n",
    "    if trade.shape[0] > 7e+5:\n",
    "        break\n",
    "        \n"
   ]
  },
  {
   "cell_type": "code",
   "execution_count": 6,
   "metadata": {},
   "outputs": [
    {
     "data": {
      "text/html": [
       "<div>\n",
       "<style scoped>\n",
       "    .dataframe tbody tr th:only-of-type {\n",
       "        vertical-align: middle;\n",
       "    }\n",
       "\n",
       "    .dataframe tbody tr th {\n",
       "        vertical-align: top;\n",
       "    }\n",
       "\n",
       "    .dataframe thead th {\n",
       "        text-align: right;\n",
       "    }\n",
       "</style>\n",
       "<table border=\"1\" class=\"dataframe\">\n",
       "  <thead>\n",
       "    <tr style=\"text-align: right;\">\n",
       "      <th></th>\n",
       "      <th>e</th>\n",
       "      <th>event_time</th>\n",
       "      <th>symbol</th>\n",
       "      <th>buyer_order_id</th>\n",
       "      <th>seller_order_id</th>\n",
       "      <th>trade_id</th>\n",
       "      <th>price</th>\n",
       "      <th>quantity</th>\n",
       "      <th>trade_time</th>\n",
       "      <th>is_marker_maker</th>\n",
       "      <th>M</th>\n",
       "      <th>type</th>\n",
       "    </tr>\n",
       "  </thead>\n",
       "  <tbody>\n",
       "    <tr>\n",
       "      <th>3</th>\n",
       "      <td>trade</td>\n",
       "      <td>2022-01-21 07:56:25.130</td>\n",
       "      <td>BTCUSDT</td>\n",
       "      <td>9063926759</td>\n",
       "      <td>9063926875</td>\n",
       "      <td>1.228137e+09</td>\n",
       "      <td>39118.31</td>\n",
       "      <td>0.00617</td>\n",
       "      <td>1.642752e+12</td>\n",
       "      <td>1.0</td>\n",
       "      <td>1.0</td>\n",
       "      <td>NaN</td>\n",
       "    </tr>\n",
       "    <tr>\n",
       "      <th>4</th>\n",
       "      <td>trade</td>\n",
       "      <td>2022-01-21 07:56:25.162</td>\n",
       "      <td>BTCUSDT</td>\n",
       "      <td>9063926878</td>\n",
       "      <td>9063926770</td>\n",
       "      <td>1.228137e+09</td>\n",
       "      <td>39118.32</td>\n",
       "      <td>0.00118</td>\n",
       "      <td>1.642752e+12</td>\n",
       "      <td>0.0</td>\n",
       "      <td>1.0</td>\n",
       "      <td>buy</td>\n",
       "    </tr>\n",
       "    <tr>\n",
       "      <th>6</th>\n",
       "      <td>trade</td>\n",
       "      <td>2022-01-21 07:56:25.268</td>\n",
       "      <td>BTCUSDT</td>\n",
       "      <td>9063926882</td>\n",
       "      <td>9063926770</td>\n",
       "      <td>1.228137e+09</td>\n",
       "      <td>39118.32</td>\n",
       "      <td>0.00430</td>\n",
       "      <td>1.642752e+12</td>\n",
       "      <td>0.0</td>\n",
       "      <td>1.0</td>\n",
       "      <td>buy</td>\n",
       "    </tr>\n",
       "    <tr>\n",
       "      <th>11</th>\n",
       "      <td>trade</td>\n",
       "      <td>2022-01-21 07:56:25.668</td>\n",
       "      <td>BTCUSDT</td>\n",
       "      <td>9063926915</td>\n",
       "      <td>9063926770</td>\n",
       "      <td>1.228137e+09</td>\n",
       "      <td>39118.32</td>\n",
       "      <td>0.00222</td>\n",
       "      <td>1.642752e+12</td>\n",
       "      <td>0.0</td>\n",
       "      <td>1.0</td>\n",
       "      <td>buy</td>\n",
       "    </tr>\n",
       "    <tr>\n",
       "      <th>13</th>\n",
       "      <td>trade</td>\n",
       "      <td>2022-01-21 07:56:25.745</td>\n",
       "      <td>BTCUSDT</td>\n",
       "      <td>9063926841</td>\n",
       "      <td>9063926924</td>\n",
       "      <td>1.228137e+09</td>\n",
       "      <td>39118.31</td>\n",
       "      <td>0.00261</td>\n",
       "      <td>1.642752e+12</td>\n",
       "      <td>1.0</td>\n",
       "      <td>1.0</td>\n",
       "      <td>sell</td>\n",
       "    </tr>\n",
       "    <tr>\n",
       "      <th>...</th>\n",
       "      <td>...</td>\n",
       "      <td>...</td>\n",
       "      <td>...</td>\n",
       "      <td>...</td>\n",
       "      <td>...</td>\n",
       "      <td>...</td>\n",
       "      <td>...</td>\n",
       "      <td>...</td>\n",
       "      <td>...</td>\n",
       "      <td>...</td>\n",
       "      <td>...</td>\n",
       "      <td>...</td>\n",
       "    </tr>\n",
       "    <tr>\n",
       "      <th>1499995</th>\n",
       "      <td>trade</td>\n",
       "      <td>2022-01-21 21:47:55.705</td>\n",
       "      <td>BTCUSDT</td>\n",
       "      <td>9074767705</td>\n",
       "      <td>9074767713</td>\n",
       "      <td>1.229140e+09</td>\n",
       "      <td>36786.85</td>\n",
       "      <td>0.03000</td>\n",
       "      <td>1.642802e+12</td>\n",
       "      <td>1.0</td>\n",
       "      <td>1.0</td>\n",
       "      <td>sell</td>\n",
       "    </tr>\n",
       "    <tr>\n",
       "      <th>1499996</th>\n",
       "      <td>trade</td>\n",
       "      <td>2022-01-21 21:47:55.706</td>\n",
       "      <td>BTCUSDT</td>\n",
       "      <td>9074767705</td>\n",
       "      <td>9074767714</td>\n",
       "      <td>1.229140e+09</td>\n",
       "      <td>36786.85</td>\n",
       "      <td>0.06809</td>\n",
       "      <td>1.642802e+12</td>\n",
       "      <td>1.0</td>\n",
       "      <td>1.0</td>\n",
       "      <td>sell</td>\n",
       "    </tr>\n",
       "    <tr>\n",
       "      <th>1499997</th>\n",
       "      <td>trade</td>\n",
       "      <td>2022-01-21 21:47:55.706</td>\n",
       "      <td>BTCUSDT</td>\n",
       "      <td>9074767680</td>\n",
       "      <td>9074767714</td>\n",
       "      <td>1.229140e+09</td>\n",
       "      <td>36785.01</td>\n",
       "      <td>0.01719</td>\n",
       "      <td>1.642802e+12</td>\n",
       "      <td>1.0</td>\n",
       "      <td>1.0</td>\n",
       "      <td>sell</td>\n",
       "    </tr>\n",
       "    <tr>\n",
       "      <th>1499998</th>\n",
       "      <td>trade</td>\n",
       "      <td>2022-01-21 21:47:55.709</td>\n",
       "      <td>BTCUSDT</td>\n",
       "      <td>9074767680</td>\n",
       "      <td>9074767716</td>\n",
       "      <td>1.229140e+09</td>\n",
       "      <td>36785.01</td>\n",
       "      <td>0.04000</td>\n",
       "      <td>1.642802e+12</td>\n",
       "      <td>1.0</td>\n",
       "      <td>1.0</td>\n",
       "      <td>sell</td>\n",
       "    </tr>\n",
       "    <tr>\n",
       "      <th>1499999</th>\n",
       "      <td>trade</td>\n",
       "      <td>2022-01-21 21:47:55.710</td>\n",
       "      <td>BTCUSDT</td>\n",
       "      <td>9074767680</td>\n",
       "      <td>9074767717</td>\n",
       "      <td>1.229140e+09</td>\n",
       "      <td>36785.01</td>\n",
       "      <td>0.03000</td>\n",
       "      <td>1.642802e+12</td>\n",
       "      <td>1.0</td>\n",
       "      <td>1.0</td>\n",
       "      <td>sell</td>\n",
       "    </tr>\n",
       "  </tbody>\n",
       "</table>\n",
       "<p>1002438 rows × 12 columns</p>\n",
       "</div>"
      ],
      "text/plain": [
       "             e              event_time   symbol buyer_order_id  \\\n",
       "3        trade 2022-01-21 07:56:25.130  BTCUSDT     9063926759   \n",
       "4        trade 2022-01-21 07:56:25.162  BTCUSDT     9063926878   \n",
       "6        trade 2022-01-21 07:56:25.268  BTCUSDT     9063926882   \n",
       "11       trade 2022-01-21 07:56:25.668  BTCUSDT     9063926915   \n",
       "13       trade 2022-01-21 07:56:25.745  BTCUSDT     9063926841   \n",
       "...        ...                     ...      ...            ...   \n",
       "1499995  trade 2022-01-21 21:47:55.705  BTCUSDT     9074767705   \n",
       "1499996  trade 2022-01-21 21:47:55.706  BTCUSDT     9074767705   \n",
       "1499997  trade 2022-01-21 21:47:55.706  BTCUSDT     9074767680   \n",
       "1499998  trade 2022-01-21 21:47:55.709  BTCUSDT     9074767680   \n",
       "1499999  trade 2022-01-21 21:47:55.710  BTCUSDT     9074767680   \n",
       "\n",
       "        seller_order_id      trade_id     price  quantity    trade_time  \\\n",
       "3            9063926875  1.228137e+09  39118.31   0.00617  1.642752e+12   \n",
       "4            9063926770  1.228137e+09  39118.32   0.00118  1.642752e+12   \n",
       "6            9063926770  1.228137e+09  39118.32   0.00430  1.642752e+12   \n",
       "11           9063926770  1.228137e+09  39118.32   0.00222  1.642752e+12   \n",
       "13           9063926924  1.228137e+09  39118.31   0.00261  1.642752e+12   \n",
       "...                 ...           ...       ...       ...           ...   \n",
       "1499995      9074767713  1.229140e+09  36786.85   0.03000  1.642802e+12   \n",
       "1499996      9074767714  1.229140e+09  36786.85   0.06809  1.642802e+12   \n",
       "1499997      9074767714  1.229140e+09  36785.01   0.01719  1.642802e+12   \n",
       "1499998      9074767716  1.229140e+09  36785.01   0.04000  1.642802e+12   \n",
       "1499999      9074767717  1.229140e+09  36785.01   0.03000  1.642802e+12   \n",
       "\n",
       "         is_marker_maker    M  type  \n",
       "3                    1.0  1.0   NaN  \n",
       "4                    0.0  1.0   buy  \n",
       "6                    0.0  1.0   buy  \n",
       "11                   0.0  1.0   buy  \n",
       "13                   1.0  1.0  sell  \n",
       "...                  ...  ...   ...  \n",
       "1499995              1.0  1.0  sell  \n",
       "1499996              1.0  1.0  sell  \n",
       "1499997              1.0  1.0  sell  \n",
       "1499998              1.0  1.0  sell  \n",
       "1499999              1.0  1.0  sell  \n",
       "\n",
       "[1002438 rows x 12 columns]"
      ]
     },
     "execution_count": 6,
     "metadata": {},
     "output_type": "execute_result"
    }
   ],
   "source": [
    "trade.rename(columns=name_dict)"
   ]
  },
  {
   "cell_type": "code",
   "execution_count": null,
   "metadata": {},
   "outputs": [],
   "source": [
    "du = pd.DataFrame()\n",
    "for data in tqdm(df):\n",
    "    tmp = data.query('e==\"depthUpdate\"').dropna(axis=1)\n",
    "\n",
    "    tmp['b_first_q']=tmp['b'].explode().dropna().apply(lambda x: x[1] if x[1]!='0.00000000' else np.nan).groupby(level=0).first().astype(float)\n",
    "    tmp['a_first_q']=tmp['a'].explode().dropna().apply(lambda x: x[1] if x[1]!='0.00000000' else np.nan).groupby(level=0).first().astype(float)\n",
    "\n",
    "    tmp['b_first_p']=tmp['b'].explode().dropna().apply(lambda x: x[0] if x[1]!='0.00000000' else np.nan).groupby(level=0).first().astype(float)\n",
    "    tmp['a_first_p']=tmp['a'].explode().dropna().apply(lambda x: x[0] if x[1]!='0.00000000' else np.nan).groupby(level=0).first().astype(float)\n",
    "    tmp['is_seller_pres_bid']=tmp['b_first_q'].diff().apply(lambda x: x if x>0 else 0)\n",
    "    tmp['is_buyer_pres_bid']=tmp[['b_first_q','b_first_p']].diff().apply(lambda x: abs(x['b_first_q']) *-1  if x['b_first_p'] <0 else 0,axis=1)\n",
    "\n",
    "    tmp['is_seller_pres_ask']=tmp['a_first_q'].diff().apply(lambda x: x if x>0 else 0)\n",
    "    tmp['is_buyer_pres_ask']=tmp[['a_first_q','a_first_p']].diff().apply(lambda x: abs(x['a_first_q']) *-1  if x['a_first_p'] <0 else 0,axis=1)\n",
    "    tmp.drop(['e','u','U','b','a'],axis=1,inplace=True)\n",
    "    du=du.append(tmp)\n",
    "    print(du.memory_usage(deep=True).sum())\n",
    "    if du.memory_usage(deep=True).sum() // 1000**2 > 300:\n",
    "        break"
   ]
  },
  {
   "cell_type": "markdown",
   "metadata": {},
   "source": [
    "### data transform"
   ]
  },
  {
   "cell_type": "code",
   "execution_count": null,
   "metadata": {},
   "outputs": [],
   "source": [
    "n_ticks= 500\n",
    "trade[f'ticks_{n_ticks}'] = np.arange(0,trade.shape[0]) // n_ticks\n",
    "du[f'ticks_{n_ticks}'] = np.arange(0,du.shape[0]) // n_ticks\n",
    "trade[f'ticks_{n_ticks}_dt'] = trade.groupby(f'ticks_{n_ticks}')['E'].transform('first')\n",
    "du[f'ticks_{n_ticks}_dt'] = du.groupby(f'ticks_{n_ticks}')['E'].transform('first')\n"
   ]
  },
  {
   "cell_type": "code",
   "execution_count": null,
   "metadata": {},
   "outputs": [],
   "source": [
    "n_ticks= 10\n",
    "trade[f'ticks_{n_ticks}'] = np.arange(0,trade.shape[0]) // n_ticks\n",
    "du[f'ticks_{n_ticks}'] = np.arange(0,du.shape[0]) // n_ticks\n",
    "trade[f'ticks_{n_ticks}_dt'] = trade.groupby(f'ticks_{n_ticks}')['E'].transform('first')\n",
    "du[f'ticks_{n_ticks}_dt'] = du.groupby(f'ticks_{n_ticks}')['E'].transform('first')"
   ]
  },
  {
   "cell_type": "code",
   "execution_count": null,
   "metadata": {},
   "outputs": [],
   "source": [
    "ttl_pres_df = du.groupby('ticks_500_dt')[['is_buyer_pres_bid','is_seller_pres_bid']].sum().melt(ignore_index=False).reset_index()\\\n",
    "            .append(du.groupby('ticks_500_dt')[['is_buyer_pres_ask','is_seller_pres_ask']].sum().melt(ignore_index=False).reset_index())\n",
    "ttl_pres_df['type']=ttl_pres_df['variable'].str.contains('bid').map({True:'bid',False:'ask'})"
   ]
  },
  {
   "cell_type": "markdown",
   "metadata": {},
   "source": [
    "## Plots"
   ]
  },
  {
   "cell_type": "markdown",
   "metadata": {},
   "source": [
    "### 1"
   ]
  },
  {
   "cell_type": "code",
   "execution_count": null,
   "metadata": {},
   "outputs": [],
   "source": [
    "px.line(trade.groupby(pd.Grouper(key='E',freq='10S'))['t'].nunique(),title='Индикатор скорости сделок за 10 секунд').write_html('plots/1_speed.html')"
   ]
  },
  {
   "cell_type": "code",
   "execution_count": null,
   "metadata": {},
   "outputs": [],
   "source": [
    "plot_1_df = pd.DataFrame()\n",
    "for i in [10,30,60,120,500,1000,2000,3000,5000]:\n",
    "    plot_1_df[i]=trade.groupby(pd.Grouper(key='E',freq=f'{i}S'))['t'].nunique()"
   ]
  },
  {
   "cell_type": "code",
   "execution_count": null,
   "metadata": {},
   "outputs": [],
   "source": [
    "px.line(plot_1_df.melt(ignore_index=False).reset_index().dropna(),x='E',y='value',animation_frame='variable').write_html('plots/1_speed.html')"
   ]
  },
  {
   "cell_type": "markdown",
   "metadata": {},
   "source": [
    "### 2"
   ]
  },
  {
   "cell_type": "code",
   "execution_count": null,
   "metadata": {},
   "outputs": [],
   "source": [
    "px.line(trade.groupby([pd.Grouper(key='E',freq='10S')])['type'].value_counts().unstack(),title='Индикатор интенсивности продаж/покупок').write_html('plots/2_buysell_value_count.html')"
   ]
  },
  {
   "cell_type": "code",
   "execution_count": null,
   "metadata": {},
   "outputs": [],
   "source": [
    "plot_2_df = pd.DataFrame()\n",
    "for i in tqdm([10,30,60,120,500,1000,2000,3000,5000]):\n",
    "    plot_2_df[i] = trade.groupby(pd.Grouper(key='E',freq=f'{i}S'))['type'].value_counts()\n",
    "px.line(plot_2_df.melt(ignore_index=False).reset_index().dropna(),x='E',y='value',color='type',animation_frame='variable').write_html('plots/2_buysell_value_count.html')"
   ]
  },
  {
   "cell_type": "markdown",
   "metadata": {},
   "source": [
    "### 3"
   ]
  },
  {
   "cell_type": "code",
   "execution_count": null,
   "metadata": {},
   "outputs": [],
   "source": [
    "px.line(du.groupby(pd.Grouper(key='E',freq='10S'))['diff_p'].mean(),title='Индикатор спреда').write_html('plots/3_spread.html')"
   ]
  },
  {
   "cell_type": "code",
   "execution_count": null,
   "metadata": {},
   "outputs": [],
   "source": [
    "plot_3_df = pd.DataFrame()\n",
    "for i in tqdm([10,30,60,120,500,1000,2000,3000,5000]):\n",
    "    plot_3_df[i] = du.groupby(pd.Grouper(key='E',freq=f'{i}S'))['diff_p'].mean()"
   ]
  },
  {
   "cell_type": "code",
   "execution_count": null,
   "metadata": {},
   "outputs": [],
   "source": [
    "px.line(plot_3_df.melt(ignore_index=False).reset_index().dropna(),title='Индикатор спреда',x='E',y='value',animation_frame='variable').write_html('plots/3_spread.html')"
   ]
  },
  {
   "cell_type": "code",
   "execution_count": null,
   "metadata": {},
   "outputs": [],
   "source": [
    "px.line(du.groupby(pd.Grouper(key='E',freq='10S'))[['b_first_p','a_first_p']].mean()\\\n",
    "    .join(trade.groupby(pd.Grouper(key='E',freq='10S'))['p'].last())\\\n",
    "        ,title='Линии поведение бида и аска относительно цены последней сделки').write_html('plots/3_bidask_price_comp.html')"
   ]
  },
  {
   "cell_type": "markdown",
   "metadata": {},
   "source": [
    "### 4"
   ]
  },
  {
   "cell_type": "code",
   "execution_count": null,
   "metadata": {},
   "outputs": [],
   "source": [
    "px.bar(du.groupby('ticks_500_dt')[['is_buyer_pres_bid','is_seller_pres_bid']].sum().melt(ignore_index=False).reset_index(),x='ticks_500_dt',y='value',color='variable',title='Чистые бары давлений').write_html('plots/4_raw_bar_pressure_bid.html')\n",
    "px.bar(du.groupby('ticks_500_dt')[['is_buyer_pres_ask','is_seller_pres_ask']].sum().melt(ignore_index=False).reset_index(),x='ticks_500_dt',y='value',color='variable',title='Чистые бары давлений').write_html('plots/4_raw_bar_pressure_ask.html')"
   ]
  },
  {
   "cell_type": "code",
   "execution_count": null,
   "metadata": {},
   "outputs": [],
   "source": [
    "px.bar(ttl_pres_df,x='ticks_500_dt',y='value',color='variable',facet_row='type',title='Чистые бары давлений').write_html('plots/4_raw_bar_pressure.html')"
   ]
  },
  {
   "cell_type": "code",
   "execution_count": null,
   "metadata": {},
   "outputs": [],
   "source": [
    "px.bar(du.groupby('ticks_500_dt')[['is_buyer_pres_bid','is_seller_pres_bid']].sum().sum(axis=1),title='Разница давлений').write_html('plots/4_diff_bar_pressure_bid.html')\n",
    "px.bar(du.groupby('ticks_500_dt')[['is_buyer_pres_ask','is_seller_pres_ask']].sum().sum(axis=1),title='Разница давлений').write_html('plots/4_diff_bar_pressure_ask.html')"
   ]
  },
  {
   "cell_type": "code",
   "execution_count": null,
   "metadata": {},
   "outputs": [],
   "source": [
    "px.bar(ttl_pres_df.groupby(['ticks_500_dt','type'])['value'].sum().reset_index(),x='ticks_500_dt',y='value',facet_row='type',color='type',title='Разница давлений').write_html('plots/4_diff_bar_pressure.html')"
   ]
  },
  {
   "cell_type": "markdown",
   "metadata": {},
   "source": [
    "### 5"
   ]
  },
  {
   "cell_type": "code",
   "execution_count": null,
   "metadata": {},
   "outputs": [],
   "source": [
    "olhc = trade.groupby('ticks_10_dt')['p'].agg(['first','last','min','max'])\n",
    "olhc_500 = trade.groupby('ticks_500_dt')['p'].agg(['first','last','min','max'])"
   ]
  },
  {
   "cell_type": "code",
   "execution_count": null,
   "metadata": {},
   "outputs": [],
   "source": [
    "fig = go.Figure(data=go.Ohlc(x=olhc.index,open=olhc['first'],close=olhc['last'],low=olhc['min'],high=olhc['max']))\n",
    "fig.write_html('plots/5_ohlc.html')"
   ]
  },
  {
   "cell_type": "code",
   "execution_count": null,
   "metadata": {},
   "outputs": [],
   "source": [
    "fig = go.Figure(data=go.Ohlc(x=olhc_500.index,open=olhc_500['first'],close=olhc_500['last'],low=olhc_500['min'],high=olhc_500['max']))\n",
    "fig.write_html('plots/5_ohlc_500.html')"
   ]
  },
  {
   "cell_type": "code",
   "execution_count": null,
   "metadata": {},
   "outputs": [],
   "source": []
  }
 ],
 "metadata": {
  "interpreter": {
   "hash": "31f2aee4e71d21fbe5cf8b01ff0e069b9275f58929596ceb00d14d90e3e16cd6"
  },
  "kernelspec": {
   "display_name": "Python 3.8.10 64-bit",
   "language": "python",
   "name": "python3"
  },
  "language_info": {
   "codemirror_mode": {
    "name": "ipython",
    "version": 3
   },
   "file_extension": ".py",
   "mimetype": "text/x-python",
   "name": "python",
   "nbconvert_exporter": "python",
   "pygments_lexer": "ipython3",
   "version": "3.10.0"
  },
  "orig_nbformat": 4
 },
 "nbformat": 4,
 "nbformat_minor": 2
}
